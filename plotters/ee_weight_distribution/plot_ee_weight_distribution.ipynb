{
 "cells": [
  {
   "cell_type": "code",
   "execution_count": 1,
   "metadata": {},
   "outputs": [],
   "source": [
    "import numpy as np\n",
    "import pandas as pd\n",
    "from matplotlib import pyplot as plt \n",
    "import random as r\n",
    "from matplotlib.lines import Line2D"
   ]
  },
  {
   "cell_type": "code",
   "execution_count": 2,
   "metadata": {},
   "outputs": [],
   "source": [
    "plt.style.use('../computermodernstyle.mplstyle')"
   ]
  },
  {
   "cell_type": "code",
   "execution_count": 3,
   "metadata": {},
   "outputs": [],
   "source": [
    "names = [r\"Weighted\", r\"Mean-weighted\", r\"Unweighted\"]\n",
    "edge_colours = [\"#377eb8\", \"#4daf4a\", \"#984ea3\", \"#ff7f00\", \"#ffff33\", \"#a65628\", \"#f781bf\"]"
   ]
  },
  {
   "cell_type": "code",
   "execution_count": 4,
   "metadata": {},
   "outputs": [],
   "source": [
    "weights = np.squeeze(pd.read_csv('../../ee_to_ttbar/data/weighted_weights.csv', delimiter = ',', header=None, index_col=False).to_numpy())"
   ]
  },
  {
   "cell_type": "code",
   "execution_count": 5,
   "metadata": {},
   "outputs": [],
   "source": [
    "weights_min = weights\n",
    "weights_min /= np.mean(weights_min)"
   ]
  },
  {
   "cell_type": "markdown",
   "metadata": {},
   "source": [
    "## Reweight with mean"
   ]
  },
  {
   "cell_type": "code",
   "execution_count": 6,
   "metadata": {},
   "outputs": [],
   "source": [
    "ref_weight_mean = np.mean(weights)\n",
    "p_rejection_sampling_mean = np.random.rand(len(weights))\n",
    "selected_mean = np.less(p_rejection_sampling_mean, weights/ref_weight_mean)\n",
    "\n",
    "weights_mean = weights[selected_mean]/ref_weight_mean\n",
    "weights_mean[weights_mean < 1.0] = 1.0\n",
    "weights_mean /= np.mean(weights_mean)"
   ]
  },
  {
   "cell_type": "markdown",
   "metadata": {},
   "source": [
    "## Reweight with max"
   ]
  },
  {
   "cell_type": "code",
   "execution_count": 7,
   "metadata": {},
   "outputs": [],
   "source": [
    "ref_weight_max = np.max(weights)\n",
    "p_rejection_sampling_max = np.random.rand(len(weights))\n",
    "selected_max = np.less(p_rejection_sampling_max, weights/ref_weight_max)\n",
    "\n",
    "weights_max = weights[selected_max]/ref_weight_max\n",
    "weights_max[weights_max < 1.0] = 1.0\n",
    "weights_max /= np.mean(weights_max)"
   ]
  },
  {
   "cell_type": "markdown",
   "metadata": {},
   "source": [
    "## Set up histograms"
   ]
  },
  {
   "cell_type": "code",
   "execution_count": 8,
   "metadata": {},
   "outputs": [],
   "source": [
    "n_bins = 100\n",
    "bins = np.linspace(np.log10(np.amin(weights_min)), np.log10(np.amax(weights_min)), n_bins+1)\n",
    "vals_min, edges = np.histogram(np.log10(weights_min), bins=bins)\n",
    "vals_mean, _    = np.histogram(np.log10(weights_mean), bins=bins)\n",
    "vals_max, _     = np.histogram(np.log10(weights_max), bins=bins)"
   ]
  },
  {
   "cell_type": "markdown",
   "metadata": {},
   "source": [
    "## Normalize"
   ]
  },
  {
   "cell_type": "code",
   "execution_count": 9,
   "metadata": {},
   "outputs": [],
   "source": [
    "bin_widths = np.diff(edges)\n",
    "vals_min_norm  = vals_min  / len(weights_min) / bin_widths\n",
    "vals_mean_norm = vals_mean / len(weights_min) / bin_widths\n",
    "vals_max_norm  = vals_max  / len(weights_min) / bin_widths"
   ]
  },
  {
   "cell_type": "code",
   "execution_count": 10,
   "metadata": {},
   "outputs": [
    {
     "name": "stderr",
     "output_type": "stream",
     "text": [
      "findfont: Font family ['serif'] not found. Falling back to DejaVu Sans.\n"
     ]
    },
    {
     "data": {
      "image/png": "[encoded data removed]",
      "text/plain": [
       "<Figure size 432x360 with 1 Axes>"
      ]
     },
     "metadata": {
      "needs_background": "light"
     },
     "output_type": "display_data"
    }
   ],
   "source": [
    "plt.figure().set_size_inches(6,5)\n",
    "plt.yscale('log')\n",
    "plt.xlim(-5.1, 1.5)\n",
    "plt.ylim(2e-6, 1e1)\n",
    "\n",
    "plt.hist(edges[:-1], edges, weights=vals_min_norm , edgecolor=edge_colours[0], label=names[0], histtype=\"step\")\n",
    "plt.hist(edges[:-1], edges, weights=vals_mean_norm, edgecolor=edge_colours[1], label=names[1], histtype=\"step\")\n",
    "plt.hist(edges[:-1], edges, weights=vals_max_norm , edgecolor=edge_colours[2], label=names[2], histtype=\"step\")\n",
    "\n",
    "handles, labels = plt.gca().get_legend_handles_labels()\n",
    "new_handles = [Line2D([], [], c=h.get_edgecolor()) for h in handles]\n",
    "plt.legend(loc=2, handles=new_handles, labels=labels) \n",
    "plt.gca().set_xlabel(r'$\\log_{10}(\\mathrm{weight})$')\n",
    "plt.gca().set_ylabel(r'distribution')\n",
    "plt.savefig('weight_distribution.pdf', format='pdf', dpi=1000, bbox_inches = \"tight\")"
   ]
  }
 ],
 "metadata": {
  "kernelspec": {
   "display_name": "Python 3",
   "language": "python",
   "name": "python3"
  },
  "language_info": {
   "codemirror_mode": {
    "name": "ipython",
    "version": 3
   },
   "file_extension": ".py",
   "mimetype": "text/x-python",
   "name": "python",
   "nbconvert_exporter": "python",
   "pygments_lexer": "ipython3",
   "version": "3.6.9"
  }
 },
 "nbformat": 4,
 "nbformat_minor": 2
}
