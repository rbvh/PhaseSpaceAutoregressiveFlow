{
 "cells": [
  {
   "cell_type": "code",
   "execution_count": 1,
   "metadata": {},
   "outputs": [],
   "source": [
    "import numpy as np\n",
    "import pandas as pd\n",
    "import math as m\n",
    "import sys\n",
    "import scipy.stats as stats\n",
    "from scipy.spatial import distance\n",
    "from matplotlib import pyplot as plt \n",
    "from matplotlib.lines import Line2D\n",
    "import matplotlib.gridspec as gridspec\n",
    "import random as rn"
   ]
  },
  {
   "cell_type": "code",
   "execution_count": 2,
   "metadata": {},
   "outputs": [],
   "source": [
    "plt.style.use('../computermodernstyle.mplstyle')"
   ]
  },
  {
   "cell_type": "code",
   "execution_count": 3,
   "metadata": {},
   "outputs": [],
   "source": [
    "def make_histogram(df, bins):\n",
    "    n_data = df.shape\n",
    "    bin_counts, bin_edges = np.histogram(df, bins=bins)\n",
    "    bin_errors = bin_counts**0.5\n",
    "    bin_centers = (bin_edges[:-1] + bin_edges[1:])/2\n",
    "    bin_widths = np.diff(bin_edges)\n",
    "\n",
    "    # Normalization\n",
    "    bin_counts_norm = bin_counts/n_data/bin_widths\n",
    "    bin_errors_norm = bin_errors/n_data/bin_widths\n",
    "\n",
    "    return bin_counts_norm, bin_errors_norm, bin_edges"
   ]
  },
  {
   "cell_type": "code",
   "execution_count": 4,
   "metadata": {},
   "outputs": [],
   "source": [
    "def make_histogram_with_ratio(df, df_baseline, bins):\n",
    "    bin_counts, bin_errors, bin_edges = make_histogram(df, bins)\n",
    "    bin_counts_baseline, _, _ = make_histogram(df_baseline, bins)\n",
    "\n",
    "    bin_counts_ratio = bin_counts/bin_counts_baseline\n",
    "    bin_errors_ratio = bin_errors/bin_counts_baseline\n",
    "\n",
    "    return bin_counts, bin_errors, bin_counts_ratio, bin_errors_ratio, bin_edges"
   ]
  },
  {
   "cell_type": "code",
   "execution_count": 5,
   "metadata": {},
   "outputs": [],
   "source": [
    "# Use the first file as baseline for ratio plot\n",
    "file_names = ['../../ee_to_ttbar/data/unweighted_samples_phase_space.csv',\n",
    "              '../../ee_to_ttbar/data/flat_samples_phase_space.csv',\n",
    "              '../../ee_to_ttbar/data/weighted_samples_phase_space.csv',\n",
    "              '../../ee_to_ttbar/data/flow_samples_unweighted_best_validation_phase_space.csv']\n",
    "names = [r\"True\", r\"Flat\", r\"VEGAS\", r\"Flow\"]\n",
    "edge_colours = [\"#e41a1c\", \"#377eb8\", \"#4daf4a\", \"#984ea3\", \"#ff7f00\", \"#ffff33\", \"#a65628\", \"#f781bf\"]"
   ]
  },
  {
   "cell_type": "code",
   "execution_count": 6,
   "metadata": {},
   "outputs": [],
   "source": [
    "dfs = []\n",
    "for name in file_names:\n",
    "    dfs.append(pd.read_csv(name, delimiter = ',', header=None, index_col=False))"
   ]
  },
  {
   "cell_type": "markdown",
   "metadata": {},
   "source": [
    "## Plot W mass"
   ]
  },
  {
   "cell_type": "code",
   "execution_count": 7,
   "metadata": {
    "tags": []
   },
   "outputs": [
    {
     "name": "stderr",
     "output_type": "stream",
     "text": [
      "/usr/local/lib/python3.6/dist-packages/ipykernel_launcher.py:57: UserWarning: This figure includes Axes that are not compatible with tight_layout, so results might be incorrect.\n",
      "/usr/local/lib/python3.6/dist-packages/ipykernel_launcher.py:57: UserWarning: This figure includes Axes that are not compatible with tight_layout, so results might be incorrect.\n",
      "findfont: Font family ['serif'] not found. Falling back to DejaVu Sans.\n",
      "/usr/local/lib/python3.6/dist-packages/IPython/core/pylabtools.py:128: UserWarning: This figure includes Axes that are not compatible with tight_layout, so results might be incorrect.\n",
      "  fig.canvas.print_figure(bytes_io, **kw)\n"
     ]
    },
    {
     "data": {
      "image/png": "[encoded data removed]",
      "text/plain": [
       "<Figure size 360x288 with 2 Axes>"
      ]
     },
     "metadata": {
      "needs_background": "light"
     },
     "output_type": "display_data"
    }
   ],
   "source": [
    "fig = plt.figure()\n",
    "fig.set_size_inches(5,4)\n",
    "gs = gridspec.GridSpec(nrows=3,ncols=1)\n",
    "gs.update(left=0,right=1,top=1,bottom=0,hspace=0, wspace=0)\n",
    "\n",
    "main_plot = fig.add_subplot(gs[:-1,0])\n",
    "ratio_plot = fig.add_subplot(gs[2,0])\n",
    "\n",
    "# Set bins\n",
    "n_bins = 50\n",
    "range_min = 72\n",
    "range_max = 88\n",
    "\n",
    "main_plot.set_xlim(range_min, range_max)\n",
    "main_plot.set_ylim(0.0001, 0.34)\n",
    "main_plot.set_xticks([])\n",
    "ratio_plot.set_xlim(range_min, range_max)\n",
    "ratio_plot.set_ylim(0.8,1.2)\n",
    "bins = np.linspace(range_min, range_max, n_bins+1)\n",
    "bin_centers = (bins[:-1] + bins[1:])/2\n",
    "\n",
    "# Compute baseline observable\n",
    "obs_baseline = np.sqrt((dfs[0][8] + dfs[0][12])**2 - (dfs[0][9] + dfs[0][13])**2 - (dfs[0][10] + dfs[0][14])**2 - (dfs[0][11] + dfs[0][15])**2)\n",
    "\n",
    "for i in range(len(file_names)):\n",
    "    # Compute observable\n",
    "    df = dfs[i]\n",
    "    obs = np.sqrt((df[8] + df[12])**2 - (df[9] + df[13])**2 - (df[10] + df[14])**2 - (df[11] + df[15])**2)\n",
    "    \n",
    "    # Get normalized histograms\n",
    "    counts, errors, counts_ratio, errors_ratio, edges = make_histogram_with_ratio(obs, obs_baseline, bins)\n",
    "\n",
    "    # Plot\n",
    "    main_plot.hist(edges[:-1], edges, weights=counts, edgecolor=edge_colours[i], histtype=\"step\", label=names[i])\n",
    "\n",
    "    # Plot errors - Set up arrays for straight error filling\n",
    "    fill_x = np.array([e for edge in bins for e in [edge, edge]][1:-1])\n",
    "    fill_delta_y = np.array([y for error in errors for y in [error, error]])\n",
    "    fill_central_y = np.array([c for count in counts for c in [count, count]])\n",
    "    main_plot.fill_between(fill_x, fill_central_y-fill_delta_y, fill_central_y+fill_delta_y, color = edge_colours[i], alpha=0.3)\n",
    "\n",
    "    # Plot ratios\n",
    "    ratio_plot.hist(edges[:-1], edges, weights=counts_ratio, edgecolor=edge_colours[i], histtype=\"step\")\n",
    "\n",
    "    # Errors in ratios\n",
    "    fill_x_ratio = np.array([e for edge in bins for e in [edge, edge]][1:-1])\n",
    "    fill_delta_y_ratio = np.array([y for error in errors_ratio for y in [error, error]])\n",
    "    fill_central_y_ratio = np.array([c for count in counts_ratio for c in [count, count]])\n",
    "    ratio_plot.fill_between(fill_x_ratio, fill_central_y_ratio-fill_delta_y_ratio, fill_central_y_ratio+fill_delta_y_ratio, color = edge_colours[i], alpha=0.3)\n",
    "\n",
    "handles, labels = main_plot.get_legend_handles_labels()\n",
    "new_handles = [Line2D([], [], c=h.get_edgecolor()) for h in handles]\n",
    "main_plot.legend(loc=1, handles=new_handles, labels=labels) \n",
    "\n",
    "ratio_plot.set_xlabel(r'$m_{W} [\\mathrm{GeV}]$')\n",
    "main_plot.set_ylabel(r'$\\frac{1}{\\sigma} \\frac{\\mathrm{d}\\sigma}{\\mathrm{d}m_{W}} [\\mathrm{GeV}^{-1}]$')\n",
    "plt.savefig('m_w.pdf', format='pdf', dpi=1000, bbox_inches = \"tight\")"
   ]
  },
  {
   "cell_type": "markdown",
   "metadata": {},
   "source": [
    "## Plot top mass"
   ]
  },
  {
   "cell_type": "code",
   "execution_count": 8,
   "metadata": {
    "tags": []
   },
   "outputs": [
    {
     "name": "stderr",
     "output_type": "stream",
     "text": [
      "/usr/local/lib/python3.6/dist-packages/ipykernel_launcher.py:57: UserWarning: This figure includes Axes that are not compatible with tight_layout, so results might be incorrect.\n",
      "/usr/local/lib/python3.6/dist-packages/ipykernel_launcher.py:57: UserWarning: This figure includes Axes that are not compatible with tight_layout, so results might be incorrect.\n",
      "/usr/local/lib/python3.6/dist-packages/IPython/core/pylabtools.py:128: UserWarning: This figure includes Axes that are not compatible with tight_layout, so results might be incorrect.\n",
      "  fig.canvas.print_figure(bytes_io, **kw)\n"
     ]
    },
    {
     "data": {
      "image/png": "[encoded data removed]",
      "text/plain": [
       "<Figure size 360x288 with 2 Axes>"
      ]
     },
     "metadata": {
      "needs_background": "light"
     },
     "output_type": "display_data"
    }
   ],
   "source": [
    "fig = plt.figure()\n",
    "fig.set_size_inches(5,4)\n",
    "gs = gridspec.GridSpec(nrows=3,ncols=1)\n",
    "gs.update(left=0,right=1,top=1,bottom=0,hspace=0, wspace=0)\n",
    "\n",
    "main_plot = fig.add_subplot(gs[:-1,0])\n",
    "ratio_plot = fig.add_subplot(gs[2,0])\n",
    "\n",
    "# Set bins\n",
    "n_bins = 50\n",
    "range_min = 167\n",
    "range_max = 180\n",
    "\n",
    "main_plot.set_xlim(range_min, range_max)\n",
    "main_plot.set_ylim(0.0001, 0.42)\n",
    "main_plot.set_xticks([])\n",
    "ratio_plot.set_xlim(range_min, range_max)\n",
    "ratio_plot.set_ylim(0.8,1.2)\n",
    "bins = np.linspace(range_min, range_max, n_bins+1)\n",
    "bin_centers = (bins[:-1] + bins[1:])/2\n",
    "\n",
    "# Compute baseline mass\n",
    "obs_baseline = np.sqrt((dfs[0][4] + dfs[0][8] + dfs[0][12])**2 - (dfs[0][5] + dfs[0][9] + dfs[0][13])**2 - (dfs[0][6] + dfs[0][10] + dfs[0][14])**2 - (dfs[0][7] + dfs[0][11] + dfs[0][15])**2)\n",
    "\n",
    "for i in range(len(file_names)):\n",
    "    # Compute mass of W\n",
    "    df = dfs[i]\n",
    "    obs = np.sqrt((df[4] + df[8] + df[12])**2 - (df[5] + df[9] + df[13])**2 - (df[6] + df[10] + df[14])**2 - (df[7] + df[11] + df[15])**2)\n",
    "    \n",
    "    # Get normalized histograms\n",
    "    counts, errors, counts_ratio, errors_ratio, edges = make_histogram_with_ratio(obs, obs_baseline, bins)\n",
    "\n",
    "    # Plot\n",
    "    main_plot.hist(edges[:-1], edges, weights=counts, edgecolor=edge_colours[i], histtype=\"step\", label=names[i])\n",
    "\n",
    "    # Plot errors - Set up arrays for straight error filling\n",
    "    fill_x = np.array([e for edge in bins for e in [edge, edge]][1:-1])\n",
    "    fill_delta_y = np.array([y for error in errors for y in [error, error]])\n",
    "    fill_central_y = np.array([c for count in counts for c in [count, count]])\n",
    "    main_plot.fill_between(fill_x, fill_central_y-fill_delta_y, fill_central_y+fill_delta_y, color = edge_colours[i], alpha=0.3)\n",
    "\n",
    "    # Plot ratios\n",
    "    ratio_plot.hist(edges[:-1], edges, weights=counts_ratio, edgecolor=edge_colours[i], histtype=\"step\")\n",
    "\n",
    "    # Errors in ratios\n",
    "    fill_x_ratio = np.array([e for edge in bins for e in [edge, edge]][1:-1])\n",
    "    fill_delta_y_ratio = np.array([y for error in errors_ratio for y in [error, error]])\n",
    "    fill_central_y_ratio = np.array([c for count in counts_ratio for c in [count, count]])\n",
    "    ratio_plot.fill_between(fill_x_ratio, fill_central_y_ratio-fill_delta_y_ratio, fill_central_y_ratio+fill_delta_y_ratio, color = edge_colours[i], alpha=0.3)\n",
    "    \n",
    "handles, labels = main_plot.get_legend_handles_labels()\n",
    "new_handles = [Line2D([], [], c=h.get_edgecolor()) for h in handles]\n",
    "main_plot.legend(loc=1, handles=new_handles, labels=labels) \n",
    "\n",
    "ratio_plot.set_xlabel(r'$\\mathrm{m_t} [\\mathrm{GeV}]$')\n",
    "main_plot.set_ylabel(r'$\\frac{1}{\\sigma} \\mathrm{\\frac{d\\sigma}{dm_t}} [\\mathrm{GeV}^{-1}]$')\n",
    "plt.savefig('m_t.pdf', format='pdf', dpi=1000, bbox_inches = \"tight\")"
   ]
  },
  {
   "cell_type": "markdown",
   "metadata": {},
   "source": [
    "## Plot W pT"
   ]
  },
  {
   "cell_type": "code",
   "execution_count": 9,
   "metadata": {},
   "outputs": [
    {
     "name": "stderr",
     "output_type": "stream",
     "text": [
      "/usr/local/lib/python3.6/dist-packages/ipykernel_launcher.py:5: RuntimeWarning: invalid value encountered in true_divide\n",
      "  \"\"\"\n",
      "/usr/local/lib/python3.6/dist-packages/ipykernel_launcher.py:6: RuntimeWarning: invalid value encountered in true_divide\n",
      "  \n",
      "/usr/local/lib/python3.6/dist-packages/ipykernel_launcher.py:5: RuntimeWarning: divide by zero encountered in true_divide\n",
      "  \"\"\"\n",
      "/usr/local/lib/python3.6/dist-packages/ipykernel_launcher.py:6: RuntimeWarning: divide by zero encountered in true_divide\n",
      "  \n",
      "/usr/local/lib/python3.6/dist-packages/ipykernel_launcher.py:49: RuntimeWarning: invalid value encountered in subtract\n",
      "/usr/local/lib/python3.6/dist-packages/ipykernel_launcher.py:5: RuntimeWarning: invalid value encountered in true_divide\n",
      "  \"\"\"\n",
      "/usr/local/lib/python3.6/dist-packages/ipykernel_launcher.py:6: RuntimeWarning: invalid value encountered in true_divide\n",
      "  \n",
      "/usr/local/lib/python3.6/dist-packages/ipykernel_launcher.py:5: RuntimeWarning: invalid value encountered in true_divide\n",
      "  \"\"\"\n",
      "/usr/local/lib/python3.6/dist-packages/ipykernel_launcher.py:6: RuntimeWarning: invalid value encountered in true_divide\n",
      "  \n",
      "/usr/local/lib/python3.6/dist-packages/ipykernel_launcher.py:57: UserWarning: This figure includes Axes that are not compatible with tight_layout, so results might be incorrect.\n",
      "/usr/local/lib/python3.6/dist-packages/IPython/core/pylabtools.py:128: UserWarning: This figure includes Axes that are not compatible with tight_layout, so results might be incorrect.\n",
      "  fig.canvas.print_figure(bytes_io, **kw)\n"
     ]
    },
    {
     "data": {
      "image/png": "[encoded data removed]",
      "text/plain": [
       "<Figure size 360x288 with 2 Axes>"
      ]
     },
     "metadata": {
      "needs_background": "light"
     },
     "output_type": "display_data"
    }
   ],
   "source": [
    "fig = plt.figure()\n",
    "fig.set_size_inches(5,4)\n",
    "gs = gridspec.GridSpec(nrows=3,ncols=1)\n",
    "gs.update(left=0,right=1,top=1,bottom=0,hspace=0, wspace=0)\n",
    "\n",
    "main_plot = fig.add_subplot(gs[:-1,0])\n",
    "ratio_plot = fig.add_subplot(gs[2,0])\n",
    "\n",
    "# Set bins\n",
    "n_bins = 50\n",
    "range_min = 0\n",
    "range_max = 500\n",
    "\n",
    "main_plot.set_xlim(range_min, range_max)\n",
    "main_plot.set_ylim(0.00001, 0.0051)\n",
    "main_plot.set_xticks([])\n",
    "ratio_plot.set_xlim(range_min, range_max)\n",
    "ratio_plot.set_ylim(0.8,1.2)\n",
    "bins = np.linspace(range_min, range_max, n_bins+1)\n",
    "bin_centers = (bins[:-1] + bins[1:])/2\n",
    "\n",
    "# Compute baseline mass\n",
    "obs_baseline = np.sqrt((dfs[0][9] + dfs[0][13])**2 + (dfs[0][10] + dfs[0][14])**2)\n",
    "\n",
    "for i in range(len(file_names)):\n",
    "    # Compute mass of W\n",
    "    df = dfs[i]\n",
    "    obs = np.sqrt((df[9] + df[13])**2 + (df[10] + df[14])**2)\n",
    "    \n",
    "    # Get normalized histograms\n",
    "    counts, errors, counts_ratio, errors_ratio, edges = make_histogram_with_ratio(obs, obs_baseline, bins)\n",
    "\n",
    "    # Plot\n",
    "    main_plot.hist(edges[:-1], edges, weights=counts, edgecolor=edge_colours[i], histtype=\"step\", label=names[i])\n",
    "\n",
    "    # Plot errors - Set up arrays for straight error filling\n",
    "    fill_x = np.array([e for edge in bins for e in [edge, edge]][1:-1])\n",
    "    fill_delta_y = np.array([y for error in errors for y in [error, error]])\n",
    "    fill_central_y = np.array([c for count in counts for c in [count, count]])\n",
    "    main_plot.fill_between(fill_x, fill_central_y-fill_delta_y, fill_central_y+fill_delta_y, color = edge_colours[i], alpha=0.3)\n",
    "\n",
    "    # Plot ratios\n",
    "    ratio_plot.hist(edges[:-1], edges, weights=counts_ratio, edgecolor=edge_colours[i], histtype=\"step\")\n",
    "\n",
    "    # Errors in ratios\n",
    "    fill_x_ratio = np.array([e for edge in bins for e in [edge, edge]][1:-1])\n",
    "    fill_delta_y_ratio = np.array([y for error in errors_ratio for y in [error, error]])\n",
    "    fill_central_y_ratio = np.array([c for count in counts_ratio for c in [count, count]])\n",
    "    ratio_plot.fill_between(fill_x_ratio, fill_central_y_ratio-fill_delta_y_ratio, fill_central_y_ratio+fill_delta_y_ratio, color = edge_colours[i], alpha=0.3)\n",
    "    \n",
    "handles, labels = main_plot.get_legend_handles_labels()\n",
    "new_handles = [Line2D([], [], c=h.get_edgecolor()) for h in handles]\n",
    "main_plot.legend(loc=1, handles=new_handles, labels=labels) \n",
    "\n",
    "ratio_plot.set_xlabel(r'$p_{T,\\mathrm{W}} [\\mathrm{GeV}]$')\n",
    "main_plot.set_ylabel(r'$\\frac{1}{\\sigma} \\frac{\\mathrm{d\\sigma}}{\\mathrm{d}p_{T,\\mathrm{W}}} [\\mathrm{GeV}^{-1}]$')\n",
    "plt.savefig('wpt.pdf', format='pdf', dpi=1000, bbox_inches = \"tight\")"
   ]
  },
  {
   "cell_type": "markdown",
   "metadata": {},
   "source": [
    "## Plot t phi"
   ]
  },
  {
   "cell_type": "code",
   "execution_count": 10,
   "metadata": {},
   "outputs": [
    {
     "name": "stderr",
     "output_type": "stream",
     "text": [
      "/usr/local/lib/python3.6/dist-packages/ipykernel_launcher.py:57: UserWarning: This figure includes Axes that are not compatible with tight_layout, so results might be incorrect.\n",
      "/usr/local/lib/python3.6/dist-packages/IPython/core/pylabtools.py:128: UserWarning: This figure includes Axes that are not compatible with tight_layout, so results might be incorrect.\n",
      "  fig.canvas.print_figure(bytes_io, **kw)\n"
     ]
    },
    {
     "data": {
      "image/png": "[encoded data removed]",
      "text/plain": [
       "<Figure size 360x288 with 2 Axes>"
      ]
     },
     "metadata": {
      "needs_background": "light"
     },
     "output_type": "display_data"
    }
   ],
   "source": [
    "fig = plt.figure()\n",
    "fig.set_size_inches(5,4)\n",
    "gs = gridspec.GridSpec(nrows=3,ncols=1)\n",
    "gs.update(left=0,right=1,top=1,bottom=0,hspace=0, wspace=0)\n",
    "\n",
    "main_plot = fig.add_subplot(gs[:-1,0])\n",
    "ratio_plot = fig.add_subplot(gs[2,0])\n",
    "\n",
    "# Set bins\n",
    "n_bins = 50\n",
    "range_min = -3.14159265359\n",
    "range_max = 3.14159265359\n",
    "\n",
    "main_plot.set_xlim(range_min, range_max)\n",
    "main_plot.set_ylim(0.00001, 0.36)\n",
    "main_plot.set_xticks([])\n",
    "ratio_plot.set_xlim(range_min, range_max)\n",
    "ratio_plot.set_ylim(0.8,1.2)\n",
    "bins = np.linspace(range_min, range_max, n_bins+1)\n",
    "bin_centers = (bins[:-1] + bins[1:])/2\n",
    "\n",
    "# Compute baseline mass\n",
    "obs_baseline = np.arctan2(dfs[0][5] + dfs[0][9] + dfs[0][13], dfs[0][6] + dfs[0][10] + dfs[0][14])\n",
    "\n",
    "for i in range(len(file_names)):\n",
    "    # Compute mass of W\n",
    "    df = dfs[i]\n",
    "    obs = np.arctan2(df[5] + df[9] + df[13], df[6] + df[10] + df[14])\n",
    "    \n",
    "    # Get normalized histograms\n",
    "    counts, errors, counts_ratio, errors_ratio, edges = make_histogram_with_ratio(obs, obs_baseline, bins)\n",
    "\n",
    "    # Plot\n",
    "    main_plot.hist(edges[:-1], edges, weights=counts, edgecolor=edge_colours[i], histtype=\"step\", label=names[i])\n",
    "\n",
    "    # Plot errors - Set up arrays for straight error filling\n",
    "    fill_x = np.array([e for edge in bins for e in [edge, edge]][1:-1])\n",
    "    fill_delta_y = np.array([y for error in errors for y in [error, error]])\n",
    "    fill_central_y = np.array([c for count in counts for c in [count, count]])\n",
    "    main_plot.fill_between(fill_x, fill_central_y-fill_delta_y, fill_central_y+fill_delta_y, color = edge_colours[i], alpha=0.3)\n",
    "\n",
    "    # Plot ratios\n",
    "    ratio_plot.hist(edges[:-1], edges, weights=counts_ratio, edgecolor=edge_colours[i], histtype=\"step\")\n",
    "\n",
    "    # Errors in ratios\n",
    "    fill_x_ratio = np.array([e for edge in bins for e in [edge, edge]][1:-1])\n",
    "    fill_delta_y_ratio = np.array([y for error in errors_ratio for y in [error, error]])\n",
    "    fill_central_y_ratio = np.array([c for count in counts_ratio for c in [count, count]])\n",
    "    ratio_plot.fill_between(fill_x_ratio, fill_central_y_ratio-fill_delta_y_ratio, fill_central_y_ratio+fill_delta_y_ratio, color = edge_colours[i], alpha=0.3)\n",
    "    \n",
    "handles, labels = main_plot.get_legend_handles_labels()\n",
    "new_handles = [Line2D([], [], c=h.get_edgecolor()) for h in handles]\n",
    "main_plot.legend(loc=1, handles=new_handles, labels=labels) \n",
    "\n",
    "ratio_plot.set_xlabel(r'$\\varphi_{t}$')\n",
    "main_plot.set_ylabel(r'$\\frac{1}{\\sigma} \\frac{\\mathrm{d}\\sigma}{\\mathrm{d}\\varphi_{t}}$')\n",
    "plt.savefig('phib.pdf', format='pdf', dpi=1000, bbox_inches = \"tight\")"
   ]
  },
  {
   "cell_type": "markdown",
   "metadata": {},
   "source": [
    "## electron energy"
   ]
  },
  {
   "cell_type": "code",
   "execution_count": 11,
   "metadata": {},
   "outputs": [
    {
     "name": "stderr",
     "output_type": "stream",
     "text": [
      "/usr/local/lib/python3.6/dist-packages/ipykernel_launcher.py:57: UserWarning: This figure includes Axes that are not compatible with tight_layout, so results might be incorrect.\n",
      "/usr/local/lib/python3.6/dist-packages/IPython/core/pylabtools.py:128: UserWarning: This figure includes Axes that are not compatible with tight_layout, so results might be incorrect.\n",
      "  fig.canvas.print_figure(bytes_io, **kw)\n"
     ]
    },
    {
     "data": {
      "image/png": "[encoded data removed]",
      "text/plain": [
       "<Figure size 360x288 with 2 Axes>"
      ]
     },
     "metadata": {
      "needs_background": "light"
     },
     "output_type": "display_data"
    }
   ],
   "source": [
    "fig = plt.figure()\n",
    "fig.set_size_inches(5,4)\n",
    "gs = gridspec.GridSpec(nrows=3,ncols=1)\n",
    "gs.update(left=0,right=1,top=1,bottom=0,hspace=0, wspace=0)\n",
    "\n",
    "main_plot = fig.add_subplot(gs[:-1,0])\n",
    "ratio_plot = fig.add_subplot(gs[2,0])\n",
    "\n",
    "# Set bins\n",
    "n_bins = 50\n",
    "range_min = 1\n",
    "range_max = 480\n",
    "\n",
    "main_plot.set_xlim(range_min, range_max)\n",
    "main_plot.set_ylim(0.00001, 0.0059)\n",
    "main_plot.set_xticks([])\n",
    "ratio_plot.set_xlim(range_min, range_max)\n",
    "ratio_plot.set_ylim(0.8,1.2)\n",
    "bins = np.linspace(range_min, range_max, n_bins+1)\n",
    "bin_centers = (bins[:-1] + bins[1:])/2\n",
    "\n",
    "# Compute baseline mass\n",
    "obs_baseline = dfs[0][8]\n",
    "\n",
    "for i in range(len(file_names)):\n",
    "    # Compute mass of W\n",
    "    df = dfs[i]\n",
    "    obs = df[8]\n",
    "    \n",
    "    # Get normalized histograms\n",
    "    counts, errors, counts_ratio, errors_ratio, edges = make_histogram_with_ratio(obs, obs_baseline, bins)\n",
    "\n",
    "    # Plot\n",
    "    main_plot.hist(edges[:-1], edges, weights=counts, edgecolor=edge_colours[i], histtype=\"step\", label=names[i])\n",
    "\n",
    "    # Plot errors - Set up arrays for straight error filling\n",
    "    fill_x = np.array([e for edge in bins for e in [edge, edge]][1:-1])\n",
    "    fill_delta_y = np.array([y for error in errors for y in [error, error]])\n",
    "    fill_central_y = np.array([c for count in counts for c in [count, count]])\n",
    "    main_plot.fill_between(fill_x, fill_central_y-fill_delta_y, fill_central_y+fill_delta_y, color = edge_colours[i], alpha=0.3)\n",
    "\n",
    "    # Plot ratios\n",
    "    ratio_plot.hist(edges[:-1], edges, weights=counts_ratio, edgecolor=edge_colours[i], histtype=\"step\")\n",
    "\n",
    "    # Errors in ratios\n",
    "    fill_x_ratio = np.array([e for edge in bins for e in [edge, edge]][1:-1])\n",
    "    fill_delta_y_ratio = np.array([y for error in errors_ratio for y in [error, error]])\n",
    "    fill_central_y_ratio = np.array([c for count in counts_ratio for c in [count, count]])\n",
    "    ratio_plot.fill_between(fill_x_ratio, fill_central_y_ratio-fill_delta_y_ratio, fill_central_y_ratio+fill_delta_y_ratio, color = edge_colours[i], alpha=0.3)\n",
    "    \n",
    "handles, labels = main_plot.get_legend_handles_labels()\n",
    "new_handles = [Line2D([], [], c=h.get_edgecolor()) for h in handles]\n",
    "main_plot.legend(loc=1, handles=new_handles, labels=labels) \n",
    "\n",
    "ratio_plot.set_xlabel(r'$E_{e} [\\mathrm{GeV}]$')\n",
    "main_plot.set_ylabel(r'$\\frac{1}{\\sigma} \\frac{\\mathrm{d}\\sigma}{\\mathrm{d}E_e} [\\mathrm{GeV}^{-1}] $')\n",
    "plt.savefig('Ee.pdf', format='pdf', dpi=1000, bbox_inches = \"tight\")"
   ]
  },
  {
   "cell_type": "markdown",
   "metadata": {},
   "source": [
    "## bottom energy"
   ]
  },
  {
   "cell_type": "code",
   "execution_count": 12,
   "metadata": {},
   "outputs": [
    {
     "name": "stderr",
     "output_type": "stream",
     "text": [
      "/usr/local/lib/python3.6/dist-packages/ipykernel_launcher.py:57: UserWarning: This figure includes Axes that are not compatible with tight_layout, so results might be incorrect.\n",
      "/usr/local/lib/python3.6/dist-packages/IPython/core/pylabtools.py:128: UserWarning: This figure includes Axes that are not compatible with tight_layout, so results might be incorrect.\n",
      "  fig.canvas.print_figure(bytes_io, **kw)\n"
     ]
    },
    {
     "data": {
      "image/png": "[encoded data removed]",
      "text/plain": [
       "<Figure size 360x288 with 2 Axes>"
      ]
     },
     "metadata": {
      "needs_background": "light"
     },
     "output_type": "display_data"
    }
   ],
   "source": [
    "fig = plt.figure()\n",
    "fig.set_size_inches(5,4)\n",
    "gs = gridspec.GridSpec(nrows=3,ncols=1)\n",
    "gs.update(left=0,right=1,top=1,bottom=0,hspace=0, wspace=0)\n",
    "\n",
    "main_plot = fig.add_subplot(gs[:-1,0])\n",
    "ratio_plot = fig.add_subplot(gs[2,0])\n",
    "\n",
    "# Set bins\n",
    "n_bins = 50\n",
    "range_min = 10\n",
    "range_max = 460\n",
    "\n",
    "main_plot.set_xlim(range_min, range_max)\n",
    "main_plot.set_ylim(0.000001, 6.1e-3)\n",
    "main_plot.set_xticks([])\n",
    "ratio_plot.set_xlim(range_min, range_max)\n",
    "ratio_plot.set_ylim(0.8,1.2)\n",
    "bins = np.linspace(range_min, range_max, n_bins+1)\n",
    "bin_centers = (bins[:-1] + bins[1:])/2\n",
    "\n",
    "# Compute baseline mass\n",
    "obs_baseline = dfs[0][4]\n",
    "\n",
    "for i in range(len(file_names)):\n",
    "    # Compute mass of W\n",
    "    df = dfs[i]\n",
    "    obs = df[4]\n",
    "    \n",
    "    # Get normalized histograms\n",
    "    counts, errors, counts_ratio, errors_ratio, edges = make_histogram_with_ratio(obs, obs_baseline, bins)\n",
    "\n",
    "    # Plot\n",
    "    main_plot.hist(edges[:-1], edges, weights=counts, edgecolor=edge_colours[i], histtype=\"step\", label=names[i])\n",
    "\n",
    "    # Plot errors - Set up arrays for straight error filling\n",
    "    fill_x = np.array([e for edge in bins for e in [edge, edge]][1:-1])\n",
    "    fill_delta_y = np.array([y for error in errors for y in [error, error]])\n",
    "    fill_central_y = np.array([c for count in counts for c in [count, count]])\n",
    "    main_plot.fill_between(fill_x, fill_central_y-fill_delta_y, fill_central_y+fill_delta_y, color = edge_colours[i], alpha=0.3)\n",
    "\n",
    "    # Plot ratios\n",
    "    ratio_plot.hist(edges[:-1], edges, weights=counts_ratio, edgecolor=edge_colours[i], histtype=\"step\")\n",
    "\n",
    "    # Errors in ratios\n",
    "    fill_x_ratio = np.array([e for edge in bins for e in [edge, edge]][1:-1])\n",
    "    fill_delta_y_ratio = np.array([y for error in errors_ratio for y in [error, error]])\n",
    "    fill_central_y_ratio = np.array([c for count in counts_ratio for c in [count, count]])\n",
    "    ratio_plot.fill_between(fill_x_ratio, fill_central_y_ratio-fill_delta_y_ratio, fill_central_y_ratio+fill_delta_y_ratio, color = edge_colours[i], alpha=0.3)\n",
    "\n",
    "handles, labels = main_plot.get_legend_handles_labels()\n",
    "new_handles = [Line2D([], [], c=h.get_edgecolor()) for h in handles]\n",
    "main_plot.legend(loc=1, handles=new_handles, labels=labels) \n",
    "\n",
    "ratio_plot.set_xlabel(r'$E_{b} [\\mathrm{GeV}]$')\n",
    "main_plot.set_ylabel(r'$\\frac{1}{\\sigma} \\frac{\\mathrm{d}\\sigma}{\\mathrm{d}E_{b}} [\\mathrm{GeV}^{-1}] $')\n",
    "plt.savefig('Eb.pdf', format='pdf', dpi=1000, bbox_inches = \"tight\")"
   ]
  },
  {
   "cell_type": "code",
   "execution_count": 13,
   "metadata": {},
   "outputs": [
    {
     "name": "stderr",
     "output_type": "stream",
     "text": [
      "/usr/local/lib/python3.6/dist-packages/ipykernel_launcher.py:57: UserWarning: This figure includes Axes that are not compatible with tight_layout, so results might be incorrect.\n",
      "/usr/local/lib/python3.6/dist-packages/IPython/core/pylabtools.py:128: UserWarning: This figure includes Axes that are not compatible with tight_layout, so results might be incorrect.\n",
      "  fig.canvas.print_figure(bytes_io, **kw)\n"
     ]
    },
    {
     "data": {
      "image/png": "[encoded data removed]",
      "text/plain": [
       "<Figure size 360x288 with 2 Axes>"
      ]
     },
     "metadata": {
      "needs_background": "light"
     },
     "output_type": "display_data"
    }
   ],
   "source": [
    "fig = plt.figure()\n",
    "fig.set_size_inches(5,4)\n",
    "gs = gridspec.GridSpec(nrows=3,ncols=1)\n",
    "gs.update(left=0,right=1,top=1,bottom=0,hspace=0, wspace=0)\n",
    "\n",
    "main_plot = fig.add_subplot(gs[:-1,0])\n",
    "ratio_plot = fig.add_subplot(gs[2,0])\n",
    "\n",
    "# Set bins\n",
    "n_bins = 50\n",
    "range_min = 0\n",
    "range_max = 3.1415\n",
    "\n",
    "main_plot.set_xlim(range_min, range_max)\n",
    "main_plot.set_ylim(0.000001, 1.29)\n",
    "main_plot.set_xticks([])\n",
    "ratio_plot.set_xlim(range_min, range_max)\n",
    "ratio_plot.set_ylim(0.8,1.2)\n",
    "bins = np.linspace(range_min, range_max, n_bins+1)\n",
    "bin_centers = (bins[:-1] + bins[1:])/2\n",
    "\n",
    "# Compute baseline mass\n",
    "obs_baseline = np.arccos(1. - (dfs[0][0]*dfs[0][4] - dfs[0][1]*dfs[0][5] - dfs[0][2]*dfs[0][6] - dfs[0][3]*dfs[0][7])/dfs[0][0]/dfs[0][4])\n",
    "\n",
    "for i in range(len(file_names)):\n",
    "    # Compute mass of W\n",
    "    df = dfs[i]\n",
    "    obs = np.arccos(1. - (df[0]*df[4] - df[1]*df[5] - df[2]*df[6] - df[3]*df[7])/df[0]/df[4])\n",
    "    \n",
    "    # Get normalized histograms\n",
    "    counts, errors, counts_ratio, errors_ratio, edges = make_histogram_with_ratio(obs, obs_baseline, bins)\n",
    "\n",
    "    # Plot\n",
    "    main_plot.hist(edges[:-1], edges, weights=counts, edgecolor=edge_colours[i], histtype=\"step\", label=names[i])\n",
    "\n",
    "    # Plot errors - Set up arrays for straight error filling\n",
    "    fill_x = np.array([e for edge in bins for e in [edge, edge]][1:-1])\n",
    "    fill_delta_y = np.array([y for error in errors for y in [error, error]])\n",
    "    fill_central_y = np.array([c for count in counts for c in [count, count]])\n",
    "    main_plot.fill_between(fill_x, fill_central_y-fill_delta_y, fill_central_y+fill_delta_y, color = edge_colours[i], alpha=0.3)\n",
    "\n",
    "    # Plot ratios\n",
    "    ratio_plot.hist(edges[:-1], edges, weights=counts_ratio, edgecolor=edge_colours[i], histtype=\"step\")\n",
    "\n",
    "    # Errors in ratios\n",
    "    fill_x_ratio = np.array([e for edge in bins for e in [edge, edge]][1:-1])\n",
    "    fill_delta_y_ratio = np.array([y for error in errors_ratio for y in [error, error]])\n",
    "    fill_central_y_ratio = np.array([c for count in counts_ratio for c in [count, count]])\n",
    "    ratio_plot.fill_between(fill_x_ratio, fill_central_y_ratio-fill_delta_y_ratio, fill_central_y_ratio+fill_delta_y_ratio, color = edge_colours[i], alpha=0.3)\n",
    "\n",
    "handles, labels = main_plot.get_legend_handles_labels()\n",
    "new_handles = [Line2D([], [], c=h.get_edgecolor()) for h in handles]\n",
    "main_plot.legend(loc=2, handles=new_handles, labels=labels) \n",
    "\n",
    "ratio_plot.set_xlabel(r'$\\theta_{b \\bar{b}}$')\n",
    "main_plot.set_ylabel(r'$\\frac{1}{\\sigma} \\frac{\\mathrm{d}\\sigma}{\\mathrm{d}\\theta_{b \\bar{b}}} $')\n",
    "plt.savefig('Thetabb.pdf', format='pdf', dpi=1000, bbox_inches = \"tight\")"
   ]
  },
  {
   "cell_type": "code",
   "execution_count": null,
   "metadata": {},
   "outputs": [],
   "source": []
  }
 ],
 "metadata": {
  "kernelspec": {
   "display_name": "Python 3",
   "language": "python",
   "name": "python3"
  },
  "language_info": {
   "codemirror_mode": {
    "name": "ipython",
    "version": 3
   },
   "file_extension": ".py",
   "mimetype": "text/x-python",
   "name": "python",
   "nbconvert_exporter": "python",
   "pygments_lexer": "ipython3",
   "version": "3.6.9"
  }
 },
 "nbformat": 4,
 "nbformat_minor": 2
}
