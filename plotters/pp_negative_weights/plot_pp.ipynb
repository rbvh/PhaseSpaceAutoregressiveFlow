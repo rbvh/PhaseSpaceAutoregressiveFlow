{
 "cells": [
  {
   "cell_type": "code",
   "execution_count": 1,
   "metadata": {},
   "outputs": [],
   "source": [
    "import numpy as np\n",
    "import pandas as pd\n",
    "import math as m\n",
    "import sys\n",
    "import scipy.stats as stats\n",
    "from scipy.spatial import distance\n",
    "from matplotlib import pyplot as plt \n",
    "from matplotlib.lines import Line2D\n",
    "import matplotlib.gridspec as gridspec\n",
    "import random as rn"
   ]
  },
  {
   "cell_type": "code",
   "execution_count": 2,
   "metadata": {},
   "outputs": [],
   "source": [
    "plt.style.use('../computermodernstyle.mplstyle')"
   ]
  },
  {
   "cell_type": "code",
   "execution_count": 3,
   "metadata": {},
   "outputs": [],
   "source": [
    "def make_histogram(df, bins):\n",
    "    n_data = df.shape\n",
    "    bin_counts, bin_edges = np.histogram(df, bins=bins)\n",
    "    bin_errors = bin_counts**0.5\n",
    "    bin_centers = (bin_edges[:-1] + bin_edges[1:])/2\n",
    "    bin_widths = np.diff(bin_edges)\n",
    "\n",
    "    # Normalization\n",
    "    bin_counts_norm = bin_counts/n_data/bin_widths\n",
    "    bin_errors_norm = bin_errors/n_data/bin_widths\n",
    "\n",
    "    return bin_counts_norm, bin_errors_norm, bin_edges"
   ]
  },
  {
   "cell_type": "code",
   "execution_count": 4,
   "metadata": {},
   "outputs": [],
   "source": [
    "def make_histogram_weighted(obs, weights, bins):\n",
    "    n_data = obs.shape\n",
    "    bin_counts, bin_edges = np.histogram(obs, bins=bins, weights=weights)\n",
    "    bin_errors = bin_counts**0.5\n",
    "    bin_centers = (bin_edges[:-1] + bin_edges[1:])/2\n",
    "    bin_widths = np.diff(bin_edges)\n",
    "    \n",
    "    #return bin_counts, bin_errors, bin_edges\n",
    "\n",
    "    # Normalization\n",
    "    bin_counts_norm = bin_counts/n_data/bin_widths\n",
    "    bin_errors_norm = bin_errors/n_data/bin_widths\n",
    "\n",
    "    return bin_counts_norm, bin_errors_norm, bin_edges"
   ]
  },
  {
   "cell_type": "code",
   "execution_count": null,
   "metadata": {},
   "outputs": [],
   "source": [
    "def make_histogram_with_ratio(df, df_baseline, bins):\n",
    "    bin_counts, bin_errors, bin_edges = make_histogram(df, bins)\n",
    "    bin_counts_baseline, _, _ = make_histogram(df_baseline, bins)\n",
    "\n",
    "    bin_counts_ratio = bin_counts/bin_counts_baseline\n",
    "    bin_errors_ratio = bin_errors/bin_counts_baseline\n",
    "\n",
    "    return bin_counts, bin_errors, bin_counts_ratio, bin_errors_ratio, bin_edges"
   ]
  },
  {
   "cell_type": "code",
   "execution_count": null,
   "metadata": {},
   "outputs": [],
   "source": [
    "def make_histogram_with_ratio_weighted(obs, weights, obs_baseline, weights_baseline, bins):\n",
    "    bin_counts, bin_errors, bin_edges = make_histogram_weighted(obs, weights, bins)\n",
    "    bin_counts_baseline, _, _ = make_histogram_weighted(obs_baseline, weights_baseline, bins)\n",
    "\n",
    "    bin_counts_ratio = bin_counts/bin_counts_baseline\n",
    "    bin_errors_ratio = bin_errors/bin_counts_baseline\n",
    "    return bin_counts, bin_errors, bin_counts_ratio, bin_errors_ratio, bin_edges"
   ]
  },
  {
   "cell_type": "code",
   "execution_count": null,
   "metadata": {
    "tags": []
   },
   "outputs": [],
   "source": [
    "# Use the first file as baseline for ratio plot\n",
    "file_name_gen_samples = '../../pp_to_ttbar/data/generated_samples.csv'\n",
    "file_name_mc_samples = '../../pp_to_ttbar/data/negative_weight_samples.csv'\n",
    "# Assume there are 9 weight files\n",
    "file_name_mc_weights = '../../pp_to_ttbar/data/negative_weight_weights.csv'\n",
    "edge_colours = [\"#e41a1c\", \"#377eb8\", \"#4daf4a\", \"#984ea3\", \"#ff7f00\", \"#ffff33\", \"#a65628\", \"#f781bf\"]"
   ]
  },
  {
   "cell_type": "code",
   "execution_count": null,
   "metadata": {},
   "outputs": [],
   "source": [
    "df_mc_samples = pd.read_csv(file_name_mc_samples, delimiter = ',', header=None, index_col=False).to_numpy()[:,:8]"
   ]
  },
  {
   "cell_type": "code",
   "execution_count": null,
   "metadata": {},
   "outputs": [],
   "source": [
    "df_gen_samples = pd.read_csv(file_name_gen_samples, delimiter = ',', header=None, index_col=False).to_numpy()[:,:8]"
   ]
  },
  {
   "cell_type": "code",
   "execution_count": null,
   "metadata": {
    "tags": []
   },
   "outputs": [],
   "source": [
    "weights = pd.read_csv(file_name_mc_weights, delimiter = ',', header=None, index_col=False).to_numpy()[:,0]"
   ]
  },
  {
   "cell_type": "code",
   "execution_count": null,
   "metadata": {},
   "outputs": [],
   "source": [
    "scaling_factor = np.average(weights)"
   ]
  },
  {
   "cell_type": "code",
   "execution_count": null,
   "metadata": {},
   "outputs": [],
   "source": [
    "def construct_momentum(x0, x1, x2, x3, E_min, E_max, m_on_shell):\n",
    "    m = x0*m_on_shell*2\n",
    "    pT = np.exp(x1*np.log(E_max/E_min))*E_min\n",
    "    eta = -np.log(np.tan(x2*np.pi/2))\n",
    "    phi = 2*np.pi*(x3 + 0.5)\n",
    "    \n",
    "    return np.sqrt(pT**2 * np.cosh(eta)**2 + m**2), pT*np.cos(phi), pT*np.sin(phi), pT*np.sinh(eta)"
   ]
  },
  {
   "cell_type": "code",
   "execution_count": null,
   "metadata": {},
   "outputs": [],
   "source": [
    "def make_physics_from_abstract_data(df_mc_samples, E_min = 0.1, E_max = 6500, m_t = 173):\n",
    "    moms = np.empty([df_mc_samples.shape[0], 8])\n",
    "\n",
    "    moms[:,0], moms[:,1], moms[:,2], moms[:,3] = construct_momentum(df_mc_samples[:,0], df_mc_samples[:,1], df_mc_samples[:,2], df_mc_samples[:,3], E_min=E_min, E_max=E_max, m_on_shell=m_t)\n",
    "    moms[:,4], moms[:,5], moms[:,6], moms[:,7] = construct_momentum(df_mc_samples[:,4], df_mc_samples[:,5], df_mc_samples[:,6], df_mc_samples[:,7], E_min=E_min, E_max=E_max, m_on_shell=m_t)\n",
    "\n",
    "    return moms"
   ]
  },
  {
   "cell_type": "code",
   "execution_count": null,
   "metadata": {},
   "outputs": [],
   "source": [
    "moms_mc = make_physics_from_abstract_data(df_mc_samples)\n",
    "moms_gen = make_physics_from_abstract_data(df_gen_samples)"
   ]
  },
  {
   "cell_type": "markdown",
   "metadata": {},
   "source": [
    "## Define plots"
   ]
  },
  {
   "cell_type": "code",
   "execution_count": null,
   "metadata": {},
   "outputs": [],
   "source": [
    "obs_mc = []\n",
    "obs_gen = []\n",
    "x_min = []\n",
    "x_max = []\n",
    "y_max = []\n",
    "x_label = []\n",
    "y_label = []\n",
    "filename = []"
   ]
  },
  {
   "cell_type": "markdown",
   "metadata": {},
   "source": [
    "**Top mass**"
   ]
  },
  {
   "cell_type": "code",
   "execution_count": null,
   "metadata": {},
   "outputs": [],
   "source": [
    "for obs, moms, in ((obs_mc, moms_mc), (obs_gen, moms_gen)):\n",
    "    obs.append( np.sqrt(moms[:,0]**2 - moms[:,1]**2 - moms[:,2]**2 - moms[:,3]**2) )\n",
    "x_min.append(167)\n",
    "x_max.append(180)\n",
    "y_max.append(1.7)\n",
    "x_label.append(r'$\\mathrm{m_t} [\\mathrm{GeV}]$')\n",
    "y_label.append(r'$\\mathrm{\\frac{d\\sigma}{dm_t}} [\\mathrm{pb/GeV}]$')\n",
    "filename.append(\"mt.pdf\")"
   ]
  },
  {
   "cell_type": "markdown",
   "metadata": {},
   "source": [
    "**top pt**"
   ]
  },
  {
   "cell_type": "code",
   "execution_count": null,
   "metadata": {},
   "outputs": [],
   "source": [
    "for obs, moms, in ((obs_mc, moms_mc), (obs_gen, moms_gen)):\n",
    "    obs.append( np.sqrt( moms[:,1]**2 + moms[:,2]**2))\n",
    "x_min.append(0)\n",
    "x_max.append(480)\n",
    "y_max.append(9e-2)\n",
    "x_label.append(r'$p_{T,t} [\\mathrm{GeV}]$')\n",
    "y_label.append(r'$\\frac{\\mathrm{d}\\sigma}{\\mathrm{d}p_{T,t}} [\\mathrm{pb/GeV}] $')\n",
    "filename.append(\"tpt.pdf\")"
   ]
  },
  {
   "cell_type": "markdown",
   "metadata": {},
   "source": [
    "**mtt**"
   ]
  },
  {
   "cell_type": "code",
   "execution_count": null,
   "metadata": {},
   "outputs": [],
   "source": [
    "for obs, moms, in ((obs_mc, moms_mc), (obs_gen, moms_gen)):\n",
    "    obs.append( np.sqrt(\n",
    "        (moms[:,0] + moms[:,4])**2 - \n",
    "        (moms[:,1] + moms[:,5])**2 -\n",
    "        (moms[:,2] + moms[:,6])**2 - \n",
    "        (moms[:,3] + moms[:,7])**2\n",
    "    ) )\n",
    "\n",
    "x_min.append(250)\n",
    "x_max.append(1000)\n",
    "y_max.append(6e-2)\n",
    "x_label.append(r'$m_{tt} [\\mathrm{GeV}]$')\n",
    "y_label.append(r'$\\frac{\\mathrm{d}\\sigma}{\\mathrm{d}m_{tt}} [\\mathrm{pb/GeV}] $')\n",
    "filename.append(\"mtt.pdf\")"
   ]
  },
  {
   "cell_type": "markdown",
   "metadata": {},
   "source": [
    "**pt tt**"
   ]
  },
  {
   "cell_type": "code",
   "execution_count": null,
   "metadata": {},
   "outputs": [],
   "source": [
    "for obs, moms, in ((obs_mc, moms_mc), (obs_gen, moms_gen)):\n",
    "    obs.append( np.sqrt( (moms[:,1] + moms[:,5])**2 + (moms[:,2] + moms[:,6])**2 ))\n",
    "x_min.append(0)\n",
    "x_max.append(300)\n",
    "y_max.append(1.2e-1)\n",
    "x_label.append(r'$p_{T,tt} [\\mathrm{GeV}]$')\n",
    "y_label.append(r'$\\frac{\\mathrm{d}\\sigma}{\\mathrm{d}p_{T,tt}} [\\mathrm{pb/GeV}] $')\n",
    "filename.append(\"pttt.pdf\")"
   ]
  },
  {
   "cell_type": "markdown",
   "metadata": {},
   "source": [
    "**E tt**"
   ]
  },
  {
   "cell_type": "code",
   "execution_count": null,
   "metadata": {},
   "outputs": [],
   "source": [
    "for obs, moms, in ((obs_mc, moms_mc), (obs_gen, moms_gen)):\n",
    "    obs.append( moms[:,0] + moms[:,4] )\n",
    "x_min.append(346)\n",
    "x_max.append(3000)\n",
    "y_max.append(2e-2)\n",
    "x_label.append(r'$E_{t\\bar{t}} [\\mathrm{GeV}]$')\n",
    "y_label.append(r'$\\frac{\\mathrm{d}\\sigma}{\\mathrm{d}E_{t\\bar{t}}} [\\mathrm{pb/GeV}] $')\n",
    "filename.append(\"Ett.pdf\")"
   ]
  },
  {
   "cell_type": "markdown",
   "metadata": {},
   "source": [
    "## Make plots"
   ]
  },
  {
   "cell_type": "code",
   "execution_count": null,
   "metadata": {},
   "outputs": [],
   "source": [
    "n_bins = 25"
   ]
  },
  {
   "cell_type": "code",
   "execution_count": null,
   "metadata": {
    "scrolled": false
   },
   "outputs": [],
   "source": [
    "for i in range(len(obs_mc)):\n",
    "    fig = plt.figure()\n",
    "    fig.set_size_inches(5,4)\n",
    "    gs = gridspec.GridSpec(nrows=3,ncols=1)\n",
    "    gs.update(left=0,right=1,top=1,bottom=0,hspace=0, wspace=0)\n",
    "\n",
    "    main_plot = fig.add_subplot(gs[:-1,0])\n",
    "    ratio_plot = fig.add_subplot(gs[2,0])\n",
    "\n",
    "    main_plot.set_xlim(x_min[i], x_max[i])\n",
    "    main_plot.set_ylim(0.0001, y_max[i])\n",
    "    main_plot.set_xticks([])\n",
    "    ratio_plot.set_xlim(x_min[i], x_max[i])\n",
    "    ratio_plot.set_ylim(0.8,1.2)\n",
    "    bins = np.linspace(x_min[i], x_max[i], n_bins+1)\n",
    "    bin_centers = (bins[:-1] + bins[1:])/2\n",
    "\n",
    "    counts_train, errors_train, edges = make_histogram_weighted(obs_mc[i], weights, bins)\n",
    "    print(counts_train)\n",
    "    counts_abs, errors_abs, _ = make_histogram_weighted(obs_mc[i], scaling_factor*np.ones(len(obs_mc[i])), bins)\n",
    "    print(counts_abs)\n",
    "    counts_gen, errors_gen, _ = make_histogram_weighted(obs_gen[i], scaling_factor*np.ones(len(obs_gen[i])), bins)\n",
    "    print(counts_gen)\n",
    "    \n",
    "    # Main plot\n",
    "    main_plot.hist(edges[:-1], edges, weights=counts_train, edgecolor = edge_colours[0], histtype=\"step\", label=\"Truth\")\n",
    "    main_plot.hist(edges[:-1], edges, weights=counts_abs, edgecolor = edge_colours[1], histtype=\"step\", label=\"Abs\")\n",
    "    main_plot.hist(edges[:-1], edges, weights=counts_gen, edgecolor = edge_colours[2], histtype=\"step\", label=\"Generated\")\n",
    "\n",
    "    # Ratio plot\n",
    "    counts_train_fixed = counts_train\n",
    "    counts_train_fixed[counts_train_fixed == 0] = 1\n",
    "\n",
    "    counts_abs_fixed = counts_abs\n",
    "    counts_abs_fixed[counts_abs_fixed == 0] = 1\n",
    "    \n",
    "    counts_gen_fixed = counts_gen\n",
    "    counts_gen_fixed[counts_gen_fixed == 0] = 1\n",
    "\n",
    "    ratio_abs = counts_abs_fixed/counts_train_fixed\n",
    "    ratio_gen = counts_gen_fixed/counts_train_fixed\n",
    "    \n",
    "    ratio_plot.hist(edges[:-1], edges, weights=np.ones(len(counts_train)), edgecolor=edge_colours[0], histtype=\"step\")\n",
    "    ratio_plot.hist(edges[:-1], edges, weights=ratio_abs, edgecolor=edge_colours[1], histtype=\"step\")\n",
    "    ratio_plot.hist(edges[:-1], edges, weights=ratio_gen, edgecolor=edge_colours[2], histtype=\"step\")\n",
    "    \n",
    "    handles, labels = main_plot.get_legend_handles_labels()\n",
    "    new_handles = [Line2D([], [], c=h.get_edgecolor()) for h in handles]\n",
    "    main_plot.legend(loc=1, handles=new_handles, labels=labels) \n",
    "\n",
    "    ratio_plot.set_xlabel(x_label[i])\n",
    "    main_plot.set_ylabel(y_label[i])\n",
    "    plt.savefig('{}.pdf'.format(filename[i]), format='pdf', dpi=1000, bbox_inches = \"tight\")"
   ]
  },
  {
   "cell_type": "code",
   "execution_count": null,
   "metadata": {},
   "outputs": [],
   "source": []
  }
 ],
 "metadata": {
  "kernelspec": {
   "display_name": "Python 3",
   "language": "python",
   "name": "python3"
  },
  "language_info": {
   "codemirror_mode": {
    "name": "ipython",
    "version": 3
   },
   "file_extension": ".py",
   "mimetype": "text/x-python",
   "name": "python",
   "nbconvert_exporter": "python",
   "pygments_lexer": "ipython3",
   "version": "3.6.9"
  }
 },
 "nbformat": 4,
 "nbformat_minor": 2
}
