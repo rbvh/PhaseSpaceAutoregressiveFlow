{
 "cells": [
  {
   "cell_type": "code",
   "execution_count": 1,
   "metadata": {},
   "outputs": [],
   "source": [
    "import math as m\n",
    "import numpy as np\n",
    "import random as r\n",
    "import matplotlib.pyplot as plt\n",
    "import sys"
   ]
  },
  {
   "cell_type": "code",
   "execution_count": 2,
   "metadata": {},
   "outputs": [],
   "source": [
    "import torch\n",
    "from torch import nn\n",
    "from torch import optim\n",
    "from torch.optim.lr_scheduler import MultiStepLR"
   ]
  },
  {
   "cell_type": "code",
   "execution_count": 3,
   "metadata": {},
   "outputs": [],
   "source": [
    "from nflows.flows.base import Flow\n",
    "from nflows.distributions.uniform import BoxUniform\n",
    "from nflows.transforms.base import CompositeTransform\n",
    "from nflows.transforms.autoregressive import MaskedPiecewiseRationalQuadraticAutoregressiveTransform\n",
    "from nflows.transforms.autoregressive import MaskedPiecewiseQuadraticAutoregressiveTransform\n",
    "from nflows.transforms.permutations import ReversePermutation\n",
    "from nflows.transforms.permutations import RandomPermutation\n",
    "from nflows.transforms.splines.rational_quadratic import rational_quadratic_spline\n",
    "from torch.utils.tensorboard import SummaryWriter"
   ]
  },
  {
   "cell_type": "code",
   "execution_count": 4,
   "metadata": {},
   "outputs": [],
   "source": [
    "import subprocess\n",
    "import time\n",
    "import os\n",
    "from copy import deepcopy\n",
    "import math as m\n",
    "import gc"
   ]
  },
  {
   "cell_type": "markdown",
   "metadata": {},
   "source": [
    "## Tensorboard writer for loss logging"
   ]
  },
  {
   "cell_type": "code",
   "execution_count": 5,
   "metadata": {},
   "outputs": [],
   "source": [
    "writer = SummaryWriter()"
   ]
  },
  {
   "cell_type": "markdown",
   "metadata": {},
   "source": [
    "## GPU/CPU selection"
   ]
  },
  {
   "cell_type": "code",
   "execution_count": 6,
   "metadata": {},
   "outputs": [],
   "source": [
    "device = torch.device(\"cuda:1\")\n",
    "#device = torch.device(\"cpu\")"
   ]
  },
  {
   "cell_type": "markdown",
   "metadata": {},
   "source": [
    "## Hyperparameters"
   ]
  },
  {
   "cell_type": "code",
   "execution_count": 7,
   "metadata": {},
   "outputs": [],
   "source": [
    "n_RQS_knots = 5     # Number of knots in RQS transform\n",
    "n_made_layers = 1   # Number of hidden layers in every made network\n",
    "n_made_units = 100  # Number of units in every layer of the made network\n",
    "n_flow_layers = 6   # Number of layers in the flow\n",
    "\n",
    "batch_size = 1024\n",
    "n_epochs = 800\n",
    "adam_lr = 0.001     # Learning rate for the ADAM optimizer (default: 0.001)\n",
    "\n",
    "n_train = int(1e6)  # Number of training events\n",
    "n_test = int(1e5)   # Number of testing events\n",
    "n_sample = int(1e6) # Number of samples for ess evaluation"
   ]
  },
  {
   "cell_type": "markdown",
   "metadata": {},
   "source": [
    "## Load the training data"
   ]
  },
  {
   "cell_type": "code",
   "execution_count": 8,
   "metadata": {},
   "outputs": [],
   "source": [
    "samples = np.genfromtxt(\"data/unweighted_samples.csv\", delimiter=',')\n",
    "if (n_train + n_test > samples.shape[0]):\n",
    "    raise Exception(\"Not enough training data\")"
   ]
  },
  {
   "cell_type": "markdown",
   "metadata": {},
   "source": [
    "## Split to a train and test set"
   ]
  },
  {
   "cell_type": "code",
   "execution_count": null,
   "metadata": {},
   "outputs": [
    {
     "data": {
      "text/plain": [
       "59"
      ]
     },
     "execution_count": 9,
     "metadata": {},
     "output_type": "execute_result"
    }
   ],
   "source": [
    "train_samples = torch.tensor(samples[:n_train], dtype=torch.float32, device=device)\n",
    "test_samples = torch.tensor(samples[n_train:n_train+n_test], dtype=torch.float32, device=device)\n",
    "\n",
    "del samples\n",
    "gc.collect()"
   ]
  },
  {
   "cell_type": "markdown",
   "metadata": {},
   "source": [
    "## Set up the flow"
   ]
  },
  {
   "cell_type": "code",
   "execution_count": null,
   "metadata": {},
   "outputs": [],
   "source": [
    "event_dim = train_samples.shape[1]\n",
    "base_dist = BoxUniform(torch.zeros(event_dim), torch.ones(event_dim))\n",
    "\n",
    "transforms = []\n",
    "for _ in range(n_flow_layers):\n",
    "    transforms.append(RandomPermutation(features=event_dim))\n",
    "    transforms.append(MaskedPiecewiseRationalQuadraticAutoregressiveTransform(\n",
    "        features=event_dim, \n",
    "        hidden_features=n_made_units,\n",
    "        num_bins=n_RQS_knots,\n",
    "        num_blocks=n_made_layers-1,\n",
    "        tails=\"constrained\",\n",
    "        use_residual_blocks=False\n",
    "    ))\n",
    "transform = CompositeTransform(transforms)\n",
    "\n",
    "flow = Flow(transform, base_dist).to(device)\n",
    "optimizer = optim.Adam(flow.parameters(), lr=adam_lr)\n",
    "\n",
    "scheduler = MultiStepLR(optimizer, milestones=[350, 425, 500, 575, 650, 725, 800], gamma=0.5)"
   ]
  },
  {
   "cell_type": "markdown",
   "metadata": {},
   "source": [
    "## Training"
   ]
  },
  {
   "cell_type": "code",
   "execution_count": null,
   "metadata": {
    "scrolled": false
   },
   "outputs": [
    {
     "name": "stdout",
     "output_type": "stream",
     "text": [
      "epoch =  0 batch =  0 / 977 loss =  0.14056187868118286\n",
      "epoch =  0 batch =  25 / 977 loss =  -5.119416607113984\n",
      "epoch =  0 batch =  50 / 977 loss =  -7.517608850025663\n",
      "epoch =  0 batch =  75 / 977 loss =  -9.50397854219926\n",
      "epoch =  0 batch =  100 / 977 loss =  -11.008616155622025\n",
      "epoch =  0 batch =  125 / 977 loss =  -12.194796260150648\n",
      "epoch =  0 batch =  150 / 977 loss =  -13.273609376703666\n",
      "epoch =  0 batch =  175 / 977 loss =  -14.172077808021145\n",
      "epoch =  0 batch =  200 / 977 loss =  -14.930742577385546\n",
      "epoch =  0 batch =  225 / 977 loss =  -15.563240448326136\n",
      "epoch =  0 batch =  250 / 977 loss =  -16.09998582214473\n",
      "epoch =  0 batch =  275 / 977 loss =  -16.5827104392043\n",
      "epoch =  0 batch =  300 / 977 loss =  -17.01273797784136\n",
      "epoch =  0 batch =  325 / 977 loss =  -17.40160714510394\n",
      "epoch =  0 batch =  350 / 977 loss =  -17.749445657359903\n",
      "epoch =  0 batch =  375 / 977 loss =  -18.054584853430374\n",
      "epoch =  0 batch =  400 / 977 loss =  -18.32123516228727\n",
      "epoch =  0 batch =  425 / 977 loss =  -18.55980455392684\n",
      "epoch =  0 batch =  450 / 977 loss =  -18.77270715483805\n",
      "epoch =  0 batch =  475 / 977 loss =  -18.96847408377573\n",
      "epoch =  0 batch =  500 / 977 loss =  -19.146297767193257\n",
      "epoch =  0 batch =  525 / 977 loss =  -19.308248331508256\n",
      "epoch =  0 batch =  550 / 977 loss =  -19.454057818261774\n",
      "epoch =  0 batch =  575 / 977 loss =  -19.586722576111143\n",
      "epoch =  0 batch =  600 / 977 loss =  -19.709280699689852\n",
      "epoch =  0 batch =  625 / 977 loss =  -19.826642088377817\n",
      "epoch =  0 batch =  650 / 977 loss =  -19.934784843945458\n",
      "epoch =  0 batch =  675 / 977 loss =  -20.03317440486342\n",
      "epoch =  0 batch =  700 / 977 loss =  -20.12753865394885\n",
      "epoch =  0 batch =  725 / 977 loss =  -20.214580596437465\n",
      "epoch =  0 batch =  750 / 977 loss =  -20.297957175382756\n",
      "epoch =  0 batch =  775 / 977 loss =  -20.374339184925407\n",
      "epoch =  0 batch =  800 / 977 loss =  -20.447306255685543\n",
      "epoch =  0 batch =  825 / 977 loss =  -20.5177769927583\n",
      "epoch =  0 batch =  850 / 977 loss =  -20.583479337875758\n",
      "epoch =  0 batch =  875 / 977 loss =  -20.645541149833694\n",
      "epoch =  0 batch =  900 / 977 loss =  -20.70326937009041\n",
      "epoch =  0 batch =  925 / 977 loss =  -20.75952051019951\n",
      "epoch =  0 batch =  950 / 977 loss =  -20.81207394534104\n",
      "epoch =  0 batch =  975 / 977 loss =  -20.863258555378817\n",
      "Validation loss =  -22.72723960876465\n",
      "Effective sample size =  0.0318317\n",
      "epoch =  1 batch =  0 / 977 loss =  -22.731185913085938\n",
      "epoch =  1 batch =  25 / 977 loss =  -22.751917839050293\n",
      "epoch =  1 batch =  50 / 977 loss =  -22.784059038349227\n",
      "epoch =  1 batch =  75 / 977 loss =  -22.7978801476328\n",
      "epoch =  1 batch =  100 / 977 loss =  -22.792211381515653\n",
      "epoch =  1 batch =  125 / 977 loss =  -22.796404747735885\n",
      "epoch =  1 batch =  150 / 977 loss =  -22.80206978400022\n",
      "epoch =  1 batch =  175 / 977 loss =  -22.811483231457807\n",
      "epoch =  1 batch =  200 / 977 loss =  -22.81789086944429\n",
      "epoch =  1 batch =  225 / 977 loss =  -22.81356780296934\n",
      "epoch =  1 batch =  250 / 977 loss =  -22.809515941665474\n",
      "epoch =  1 batch =  275 / 977 loss =  -22.810117569522586\n",
      "epoch =  1 batch =  300 / 977 loss =  -22.814164380298493\n",
      "epoch =  1 batch =  325 / 977 loss =  -22.81778467798525\n",
      "epoch =  1 batch =  350 / 977 loss =  -22.819926492848634\n",
      "epoch =  1 batch =  375 / 977 loss =  -22.820474274615034\n",
      "epoch =  1 batch =  400 / 977 loss =  -22.82332244834996\n",
      "epoch =  1 batch =  425 / 977 loss =  -22.823141572620955\n",
      "epoch =  1 batch =  450 / 977 loss =  -22.82299680773277\n",
      "epoch =  1 batch =  475 / 977 loss =  -22.82400610466966\n",
      "epoch =  1 batch =  500 / 977 loss =  -22.82553833449435\n",
      "epoch =  1 batch =  525 / 977 loss =  -22.830080079488436\n",
      "epoch =  1 batch =  550 / 977 loss =  -22.83396875620321\n",
      "epoch =  1 batch =  575 / 977 loss =  -22.836591578192174\n",
      "epoch =  1 batch =  600 / 977 loss =  -22.84108325050595\n",
      "epoch =  1 batch =  625 / 977 loss =  -22.843300554318166\n",
      "epoch =  1 batch =  650 / 977 loss =  -22.846231164653904\n",
      "epoch =  1 batch =  675 / 977 loss =  -22.848854062119884\n",
      "epoch =  1 batch =  700 / 977 loss =  -22.85009883984009\n",
      "epoch =  1 batch =  725 / 977 loss =  -22.85257418293598\n",
      "epoch =  1 batch =  750 / 977 loss =  -22.855393835136322\n",
      "epoch =  1 batch =  775 / 977 loss =  -22.857261048149816\n",
      "epoch =  1 batch =  800 / 977 loss =  -22.858984843621986\n",
      "epoch =  1 batch =  825 / 977 loss =  -22.861437441939014\n",
      "epoch =  1 batch =  850 / 977 loss =  -22.86225275427418\n",
      "epoch =  1 batch =  875 / 977 loss =  -22.863041825490455\n",
      "epoch =  1 batch =  900 / 977 loss =  -22.864369154241057\n",
      "epoch =  1 batch =  925 / 977 loss =  -22.866016966735312\n",
      "epoch =  1 batch =  950 / 977 loss =  -22.86834661642209\n",
      "epoch =  1 batch =  975 / 977 loss =  -22.869067459809976\n",
      "Validation loss =  -22.953107833862305\n"
     ]
    }
   ],
   "source": [
    "data_size = train_samples.shape[0]\n",
    "n_batches = m.ceil(data_size/batch_size)\n",
    "\n",
    "data_size_validation = test_samples.shape[0]\n",
    "n_batches_validate = m.ceil(data_size_validation/batch_size)\n",
    "\n",
    "best_validation_loss = np.inf\n",
    "best_ess = 0\n",
    "\n",
    "for epoch in range(n_epochs):\n",
    "    \n",
    "    permutation = torch.randperm(data_size, device=device)    \n",
    "\n",
    "    # Loop over batches\n",
    "    cum_loss = 0\n",
    "    for batch in range(n_batches):\n",
    "        # Set up the batch\n",
    "        batch_begin = batch*batch_size\n",
    "        batch_end   = min( (batch+1)*batch_size, data_size-1 )\n",
    "        indices = permutation[batch_begin:batch_end]\n",
    "        samples_batch = train_samples[indices]\n",
    "        \n",
    "        # Take a step\n",
    "        optimizer.zero_grad()\n",
    "        loss = -(flow.log_prob(inputs=samples_batch)).mean()\n",
    "        loss.backward()\n",
    "        optimizer.step()\n",
    "\n",
    "        # Compute cumulative loss\n",
    "        cum_loss = (cum_loss*batch + loss.item())/(batch+1)\n",
    "\n",
    "        if batch%25 == 0:\n",
    "            print(\"epoch = \", epoch, \"batch = \", batch, \"/\", n_batches, \"loss = \", cum_loss)\n",
    "    \n",
    "    writer.add_scalar(\"Loss_train\", cum_loss, epoch)\n",
    "    scheduler.step()\n",
    "\n",
    "\n",
    "    # ---------- Compute validation loss -----------\n",
    "    validation_loss = 0\n",
    "    for batch in range(n_batches_validate):\n",
    "        batch_begin = batch*batch_size\n",
    "        batch_end = min( (batch+1)*batch_size, data_size_validation-1 )\n",
    "        samples_batch = test_samples[batch_begin:batch_end]\n",
    "    \n",
    "        with torch.no_grad():\n",
    "            validation_loss = (validation_loss*batch - (flow.log_prob(samples_batch)).mean())/(batch+1)\n",
    "\n",
    "    print(\"Validation loss = \", validation_loss.item())\n",
    "    writer.add_scalar(\"Loss_test\", validation_loss.item(), epoch)\n",
    "\n",
    "    if validation_loss < best_validation_loss:\n",
    "        torch.save(flow, \"flow_model_unweighted_best_validation.pt\")\n",
    "        best_validation_loss = validation_loss\n",
    "\n",
    "    \n",
    "    # ---------- Compute effective sample size ----------\n",
    "    # generate samples and evaluate llhs\n",
    "    samples = None\n",
    "    llhs = None\n",
    "    with torch.no_grad():\n",
    "        for i in range(10):\n",
    "            s = flow.sample(int(n_sample/10))\n",
    "            l = flow.log_prob(s)\n",
    "            if samples is None:\n",
    "                samples, llhs = s.cpu().numpy(), l.cpu().numpy()\n",
    "            else:\n",
    "                samples = np.vstack((samples, s.cpu().numpy()))\n",
    "                llhs = np.vstack((llhs, l.cpu().numpy()))\n",
    "\n",
    "    # Store files\n",
    "    np.savetxt(\"/tmp/samples_file.csv\", samples, delimiter=',')\n",
    "    np.savetxt(\"/tmp/llhs_file.csv\", np.exp(llhs), delimiter=',')\n",
    "\n",
    "    # Run the evaluator\n",
    "    cmd = os.path.abspath(os.getcwd())+'/ME_VEGAS/compute_metrics_from_likelihoods /tmp/samples_file.csv /tmp/llhs_file.csv'\n",
    "    b = subprocess.run(cmd, shell=True, stdout=subprocess.PIPE, stderr=subprocess.PIPE).stdout\n",
    "    lines = b.decode('ascii').split(\"\\n\")\n",
    "\n",
    "    ess = float(lines[2].split(' ')[-1])\n",
    "    \n",
    "    print(\"Effective sample size = \", ess)\n",
    "    writer.add_scalar(\"Effective_sample_size\", ess, epoch)\n",
    "\n",
    "    if ess > best_ess:\n",
    "        torch.save(flow, \"flow_model_unweighted_best_ess.pt\")\n",
    "        best_ess = ess\n",
    "        \n",
    "torch.save(flow, \"flow_model_unweighted_final.pt\")"
   ]
  },
  {
   "cell_type": "code",
   "execution_count": null,
   "metadata": {},
   "outputs": [],
   "source": []
  }
 ],
 "metadata": {
  "kernelspec": {
   "display_name": "Python 3",
   "language": "python",
   "name": "python3"
  },
  "language_info": {
   "codemirror_mode": {
    "name": "ipython",
    "version": 3
   },
   "file_extension": ".py",
   "mimetype": "text/x-python",
   "name": "python",
   "nbconvert_exporter": "python",
   "pygments_lexer": "ipython3",
   "version": "3.6.9"
  }
 },
 "nbformat": 4,
 "nbformat_minor": 4
}
