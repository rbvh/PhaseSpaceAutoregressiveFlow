{
 "cells": [
  {
   "cell_type": "code",
   "execution_count": 1,
   "metadata": {},
   "outputs": [],
   "source": [
    "import math as m\n",
    "import numpy as np\n",
    "import random as r\n",
    "import matplotlib.pyplot as plt\n",
    "import sys"
   ]
  },
  {
   "cell_type": "code",
   "execution_count": 2,
   "metadata": {},
   "outputs": [],
   "source": [
    "import torch\n",
    "from torch import nn\n",
    "from torch import optim\n",
    "from torch.optim.lr_scheduler import MultiStepLR"
   ]
  },
  {
   "cell_type": "code",
   "execution_count": 3,
   "metadata": {},
   "outputs": [],
   "source": [
    "from nflows.flows.base import Flow\n",
    "from nflows.distributions.uniform import BoxUniform\n",
    "from nflows.transforms.base import CompositeTransform\n",
    "from nflows.transforms.autoregressive import MaskedPiecewiseRationalQuadraticAutoregressiveTransform\n",
    "from nflows.transforms.autoregressive import MaskedPiecewiseQuadraticAutoregressiveTransform\n",
    "from nflows.transforms.permutations import ReversePermutation\n",
    "from nflows.transforms.permutations import RandomPermutation\n",
    "from nflows.transforms.splines.rational_quadratic import rational_quadratic_spline\n",
    "from torch.utils.tensorboard import SummaryWriter"
   ]
  },
  {
   "cell_type": "code",
   "execution_count": 4,
   "metadata": {},
   "outputs": [],
   "source": [
    "import subprocess\n",
    "import time\n",
    "import os\n",
    "from copy import deepcopy\n",
    "import math as m\n",
    "import gc"
   ]
  },
  {
   "cell_type": "markdown",
   "metadata": {},
   "source": [
    "## Tensorboard writer for loss logging"
   ]
  },
  {
   "cell_type": "code",
   "execution_count": 5,
   "metadata": {},
   "outputs": [],
   "source": [
    "writer = SummaryWriter()"
   ]
  },
  {
   "cell_type": "markdown",
   "metadata": {},
   "source": [
    "## GPU/CPU selection"
   ]
  },
  {
   "cell_type": "code",
   "execution_count": 6,
   "metadata": {},
   "outputs": [],
   "source": [
    "device = torch.device(\"cuda:1\")\n",
    "#device = torch.device(\"cpu\")"
   ]
  },
  {
   "cell_type": "markdown",
   "metadata": {},
   "source": [
    "## Reweighting strategy - must be min, mean or max"
   ]
  },
  {
   "cell_type": "code",
   "execution_count": 7,
   "metadata": {},
   "outputs": [],
   "source": [
    "reference_method = 'mean'"
   ]
  },
  {
   "cell_type": "markdown",
   "metadata": {},
   "source": [
    "## Hyperparameters"
   ]
  },
  {
   "cell_type": "code",
   "execution_count": 8,
   "metadata": {},
   "outputs": [],
   "source": [
    "n_RQS_knots = 10   # Number of knots in RQS transform\n",
    "n_made_layers = 1  # Number of hidden layers in every made network\n",
    "n_made_units = 100 # Number of units in every layer of the made network\n",
    "n_flow_layers = 6  # Number of layers in the flow\n",
    "\n",
    "batch_size = 1024\n",
    "n_epochs = 800\n",
    "adam_lr = 0.001     # Learning rate for the ADAM optimizer (default: 0.001)\n",
    "\n",
    "n_train = int(1e6)  # Number of training events\n",
    "n_test = int(1e5)   # Number of testing events\n",
    "n_sample = int(1e5) # Number of samples for ess evaluation"
   ]
  },
  {
   "cell_type": "markdown",
   "metadata": {},
   "source": [
    "## Load the train data and reweight"
   ]
  },
  {
   "cell_type": "code",
   "execution_count": null,
   "metadata": {
    "tags": []
   },
   "outputs": [],
   "source": [
    "# Load\n",
    "train_samples = np.genfromtxt(\"data/weighted_samples.csv\", delimiter=',')[:n_train]\n",
    "train_weights = np.genfromtxt(\"data/weighted_weights.csv\", delimiter=',')[:n_train]\n",
    "\n",
    "# Get reference weight\n",
    "reference_methods = {'min': np.amin, 'mean': np.mean, 'max': np.amax}\n",
    "ref_weight = reference_methods[reference_method](train_weights)\n",
    "\n",
    "# Reweighting and rejection sampling\n",
    "train_weights = train_weights / ref_weight\n",
    "p_rejection_sampling = np.random.rand(len(train_weights))\n",
    "select = np.logical_or(np.less(p_rejection_sampling, train_weights), train_weights > 1.0)\n",
    "\n",
    "train_samples = train_samples[select]\n",
    "train_weights = train_weights[select]\n",
    "train_weights[train_weights < 1.0] = 1.0\n",
    "\n",
    "# Normalize weights\n",
    "train_weights /= train_weights.mean()\n",
    "\n",
    "# Convert to torch tensors\n",
    "train_samples = torch.tensor(train_samples, dtype=torch.float32, device=device)\n",
    "train_weights = torch.tensor(train_weights, dtype=torch.float32, device=device)"
   ]
  },
  {
   "cell_type": "markdown",
   "metadata": {},
   "source": [
    "## Load the test data"
   ]
  },
  {
   "cell_type": "code",
   "execution_count": null,
   "metadata": {},
   "outputs": [],
   "source": [
    "test_samples = torch.tensor(np.genfromtxt(\"data/unweighted_samples.csv\", delimiter=',')[:n_test], dtype=torch.float32, device=device)"
   ]
  },
  {
   "cell_type": "markdown",
   "metadata": {},
   "source": [
    "## Set up the flow"
   ]
  },
  {
   "cell_type": "code",
   "execution_count": null,
   "metadata": {},
   "outputs": [],
   "source": [
    "event_dim = train_samples.shape[1]\n",
    "base_dist = BoxUniform(torch.zeros(event_dim), torch.ones(event_dim))\n",
    "\n",
    "transforms = []\n",
    "for _ in range(n_flow_layers):\n",
    "    transforms.append(RandomPermutation(features=event_dim))\n",
    "    transforms.append(MaskedPiecewiseRationalQuadraticAutoregressiveTransform(\n",
    "        features=event_dim, \n",
    "        hidden_features=n_made_units,\n",
    "        num_bins=n_RQS_knots,\n",
    "        num_blocks=n_made_layers-1,\n",
    "        tails=\"constrained\",\n",
    "        use_residual_blocks=False\n",
    "    ))\n",
    "transform = CompositeTransform(transforms)\n",
    "\n",
    "flow = Flow(transform, base_dist).to(device)\n",
    "optimizer = optim.Adam(flow.parameters(), lr=adam_lr)\n",
    "\n",
    "scheduler = MultiStepLR(optimizer, milestones=[350, 425, 500, 575, 650, 725, 800], gamma=0.5)"
   ]
  },
  {
   "cell_type": "markdown",
   "metadata": {},
   "source": [
    "## Training"
   ]
  },
  {
   "cell_type": "code",
   "execution_count": null,
   "metadata": {},
   "outputs": [
    {
     "name": "stdout",
     "output_type": "stream",
     "text": [
      "epoch =  0 batch =  0 / 692 loss =  0.1462380737066269\n",
      "epoch =  0 batch =  25 / 692 loss =  -4.204272545874119\n",
      "epoch =  0 batch =  50 / 692 loss =  -7.306620289589844\n",
      "epoch =  0 batch =  75 / 692 loss =  -9.948382421739794\n",
      "epoch =  0 batch =  100 / 692 loss =  -11.875687056396266\n",
      "epoch =  0 batch =  125 / 692 loss =  -13.222616979172306\n",
      "epoch =  0 batch =  150 / 692 loss =  -14.314912590858162\n",
      "epoch =  0 batch =  175 / 692 loss =  -15.170919220640577\n",
      "epoch =  0 batch =  200 / 692 loss =  -15.895361058228644\n",
      "epoch =  0 batch =  225 / 692 loss =  -16.483850131058592\n",
      "epoch =  0 batch =  250 / 692 loss =  -16.979781350350958\n",
      "epoch =  0 batch =  275 / 692 loss =  -17.405394372786738\n",
      "epoch =  0 batch =  300 / 692 loss =  -17.78609953058321\n",
      "epoch =  0 batch =  325 / 692 loss =  -18.108272867014442\n",
      "epoch =  0 batch =  350 / 692 loss =  -18.388631167277662\n",
      "epoch =  0 batch =  375 / 692 loss =  -18.651234240013554\n",
      "epoch =  0 batch =  400 / 692 loss =  -18.891647394793004\n",
      "epoch =  0 batch =  425 / 692 loss =  -19.098265727396033\n",
      "epoch =  0 batch =  450 / 692 loss =  -19.280760622374775\n",
      "epoch =  0 batch =  475 / 692 loss =  -19.458749261254283\n",
      "epoch =  0 batch =  500 / 692 loss =  -19.612169512285455\n",
      "epoch =  0 batch =  525 / 692 loss =  -19.759901216303223\n",
      "epoch =  0 batch =  550 / 692 loss =  -19.892685946476018\n",
      "epoch =  0 batch =  575 / 692 loss =  -20.01460586904756\n",
      "epoch =  0 batch =  600 / 692 loss =  -20.129476781320857\n",
      "epoch =  0 batch =  625 / 692 loss =  -20.237874618377365\n",
      "epoch =  0 batch =  650 / 692 loss =  -20.342493841747903\n",
      "epoch =  0 batch =  675 / 692 loss =  -20.434896129850298\n",
      "Validation loss =  -23.02285385131836\n",
      "Effective sample size =  0.855326\n",
      "epoch =  1 batch =  0 / 692 loss =  -23.054594039916992\n",
      "epoch =  1 batch =  25 / 692 loss =  -22.882530579200157\n",
      "epoch =  1 batch =  50 / 692 loss =  -22.94788697186638\n",
      "epoch =  1 batch =  75 / 692 loss =  -22.947342747136165\n",
      "epoch =  1 batch =  100 / 692 loss =  -22.967429076090898\n",
      "epoch =  1 batch =  125 / 692 loss =  -23.006582017928835\n",
      "epoch =  1 batch =  150 / 692 loss =  -23.00447487989009\n",
      "epoch =  1 batch =  175 / 692 loss =  -22.98645534298636\n",
      "epoch =  1 batch =  200 / 692 loss =  -22.98186837381391\n",
      "epoch =  1 batch =  225 / 692 loss =  -22.974508032334587\n",
      "epoch =  1 batch =  250 / 692 loss =  -22.978612253865393\n",
      "epoch =  1 batch =  275 / 692 loss =  -22.98697325112163\n",
      "epoch =  1 batch =  300 / 692 loss =  -22.991921478727726\n",
      "epoch =  1 batch =  325 / 692 loss =  -22.995620019596775\n",
      "epoch =  1 batch =  350 / 692 loss =  -22.99633963495237\n",
      "epoch =  1 batch =  375 / 692 loss =  -23.00024948221571\n",
      "epoch =  1 batch =  400 / 692 loss =  -23.006354072742024\n",
      "epoch =  1 batch =  425 / 692 loss =  -23.016529499644957\n",
      "epoch =  1 batch =  450 / 692 loss =  -23.018831595613257\n",
      "epoch =  1 batch =  475 / 692 loss =  -23.019809294147645\n",
      "epoch =  1 batch =  500 / 692 loss =  -23.029086027316698\n",
      "epoch =  1 batch =  525 / 692 loss =  -23.033731757914605\n",
      "epoch =  1 batch =  550 / 692 loss =  -23.04541474981014\n",
      "epoch =  1 batch =  575 / 692 loss =  -23.045222792360512\n",
      "epoch =  1 batch =  600 / 692 loss =  -23.048683975778275\n",
      "epoch =  1 batch =  625 / 692 loss =  -23.050326539304685\n",
      "epoch =  1 batch =  650 / 692 loss =  -23.057261181317177\n",
      "epoch =  1 batch =  675 / 692 loss =  -23.05584411790386\n",
      "Validation loss =  -22.93374252319336\n",
      "Effective sample size =  0.855326\n",
      "epoch =  2 batch =  0 / 692 loss =  -22.89324951171875\n",
      "epoch =  2 batch =  25 / 692 loss =  -23.134223571190468\n",
      "epoch =  2 batch =  50 / 692 loss =  -23.16848493089863\n",
      "epoch =  2 batch =  75 / 692 loss =  -23.177572677009984\n",
      "epoch =  2 batch =  100 / 692 loss =  -23.149452228357298\n",
      "epoch =  2 batch =  125 / 692 loss =  -23.15004545544821\n",
      "epoch =  2 batch =  150 / 692 loss =  -23.14673243137385\n",
      "epoch =  2 batch =  175 / 692 loss =  -23.148122635754678\n",
      "epoch =  2 batch =  200 / 692 loss =  -23.142849357567027\n",
      "epoch =  2 batch =  225 / 692 loss =  -23.141306936213404\n",
      "epoch =  2 batch =  250 / 692 loss =  -23.137934240212008\n",
      "epoch =  2 batch =  275 / 692 loss =  -23.14462269216344\n",
      "epoch =  2 batch =  300 / 692 loss =  -23.142984130453822\n",
      "epoch =  2 batch =  325 / 692 loss =  -23.1553685767519\n",
      "epoch =  2 batch =  350 / 692 loss =  -23.154748943796186\n",
      "epoch =  2 batch =  375 / 692 loss =  -23.151302205755357\n",
      "epoch =  2 batch =  400 / 692 loss =  -23.160138256234717\n",
      "epoch =  2 batch =  425 / 692 loss =  -23.16476318645925\n",
      "epoch =  2 batch =  450 / 692 loss =  -23.1658618106546\n",
      "epoch =  2 batch =  475 / 692 loss =  -23.170281915103686\n",
      "epoch =  2 batch =  500 / 692 loss =  -23.165245927974375\n",
      "epoch =  2 batch =  525 / 692 loss =  -23.169432560300645\n",
      "epoch =  2 batch =  550 / 692 loss =  -23.16795308274063\n",
      "epoch =  2 batch =  575 / 692 loss =  -23.169600506623585\n",
      "epoch =  2 batch =  600 / 692 loss =  -23.174373871078117\n",
      "epoch =  2 batch =  625 / 692 loss =  -23.178079693462145\n",
      "epoch =  2 batch =  650 / 692 loss =  -23.184999304799263\n",
      "epoch =  2 batch =  675 / 692 loss =  -23.18635500958685\n",
      "Validation loss =  -23.235258102416992\n",
      "Effective sample size =  0.855326\n",
      "epoch =  3 batch =  0 / 692 loss =  -23.07179069519043\n",
      "epoch =  3 batch =  25 / 692 loss =  -23.347256073584923\n",
      "epoch =  3 batch =  50 / 692 loss =  -23.289650860954733\n",
      "epoch =  3 batch =  75 / 692 loss =  -23.261917340128047\n",
      "epoch =  3 batch =  100 / 692 loss =  -23.239283533379584\n",
      "epoch =  3 batch =  125 / 692 loss =  -23.273410721430704\n",
      "epoch =  3 batch =  150 / 692 loss =  -23.26163549612689\n",
      "epoch =  3 batch =  175 / 692 loss =  -23.24948093024166\n",
      "epoch =  3 batch =  200 / 692 loss =  -23.2491106061793\n",
      "epoch =  3 batch =  225 / 692 loss =  -23.257180492434873\n",
      "epoch =  3 batch =  250 / 692 loss =  -23.261739875215927\n",
      "epoch =  3 batch =  275 / 692 loss =  -23.26928989438042\n",
      "epoch =  3 batch =  300 / 692 loss =  -23.268689032012816\n",
      "epoch =  3 batch =  325 / 692 loss =  -23.26142423430834\n",
      "epoch =  3 batch =  350 / 692 loss =  -23.26425496397534\n",
      "epoch =  3 batch =  375 / 692 loss =  -23.26467160468405\n",
      "epoch =  3 batch =  400 / 692 loss =  -23.263347321317667\n",
      "epoch =  3 batch =  425 / 692 loss =  -23.260124425932826\n",
      "epoch =  3 batch =  450 / 692 loss =  -23.25722888938074\n",
      "epoch =  3 batch =  475 / 692 loss =  -23.25252090582326\n",
      "epoch =  3 batch =  500 / 692 loss =  -23.256110901366206\n",
      "epoch =  3 batch =  525 / 692 loss =  -23.259886658237\n",
      "epoch =  3 batch =  550 / 692 loss =  -23.25881701156145\n",
      "epoch =  3 batch =  575 / 692 loss =  -23.262149300840164\n",
      "epoch =  3 batch =  600 / 692 loss =  -23.265894259866982\n",
      "epoch =  3 batch =  625 / 692 loss =  -23.266098095586138\n",
      "epoch =  3 batch =  650 / 692 loss =  -23.271861939203188\n",
      "epoch =  3 batch =  675 / 692 loss =  -23.270643505119033\n",
      "Validation loss =  -23.348295211791992\n"
     ]
    }
   ],
   "source": [
    "data_size = train_samples.shape[0]\n",
    "n_batches = m.ceil(data_size/batch_size)\n",
    "\n",
    "data_size_validation = test_samples.shape[0]\n",
    "n_batches_validate = m.ceil(data_size_validation/batch_size)\n",
    "\n",
    "best_validation_loss = np.inf\n",
    "best_ess = 0\n",
    "\n",
    "for epoch in range(n_epochs):\n",
    "    \n",
    "    permutation = torch.randperm(data_size, device=device)    \n",
    "\n",
    "    # Loop over batches\n",
    "    cum_loss = 0\n",
    "    for batch in range(n_batches):\n",
    "        # Set up the batch\n",
    "        batch_begin = batch*batch_size\n",
    "        batch_end   = min( (batch+1)*batch_size, data_size-1 )\n",
    "        indices = permutation[batch_begin:batch_end]\n",
    "        samples_batch = train_samples[indices]\n",
    "        weights_batch = train_weights[indices]\n",
    "        \n",
    "        # Take a step\n",
    "        optimizer.zero_grad()\n",
    "        loss = -(flow.log_prob(inputs=samples_batch)*weights_batch).mean()\n",
    "        loss.backward()\n",
    "        optimizer.step()\n",
    "\n",
    "        # Compute cumulative loss\n",
    "        cum_loss = (cum_loss*batch + loss.item())/(batch+1)\n",
    "\n",
    "        if batch%25 == 0:\n",
    "            print(\"epoch = \", epoch, \"batch = \", batch, \"/\", n_batches, \"loss = \", cum_loss)\n",
    "    \n",
    "    writer.add_scalar(\"Loss_train\", cum_loss, epoch)\n",
    "    scheduler.step()\n",
    "    \n",
    "\n",
    "    # ---------- Compute validation loss -----------\n",
    "    validation_loss = 0\n",
    "    for batch in range(n_batches_validate):\n",
    "        batch_begin = batch*batch_size\n",
    "        batch_end = min( (batch+1)*batch_size, data_size_validation-1 )\n",
    "        samples_batch = test_samples[batch_begin:batch_end]\n",
    "    \n",
    "        with torch.no_grad():\n",
    "            validation_loss = (validation_loss*batch - (flow.log_prob(samples_batch)).mean())/(batch+1)\n",
    "\n",
    "    print(\"Validation loss = \", validation_loss.item())\n",
    "    writer.add_scalar(\"Loss_test\", validation_loss.item(), epoch)\n",
    "\n",
    "    if validation_loss < best_validation_loss:\n",
    "        torch.save(flow, \"flow_model_weighted_{}_best_validation.pt\".format(reference_method))\n",
    "        best_validation_loss = validation_loss\n",
    "\n",
    "    \n",
    "    # ---------- Compute effective sample size ----------\n",
    "    # generate samples and evaluate llhs\n",
    "    with torch.no_grad():\n",
    "        samples = flow.sample(n_sample)\n",
    "        llhs = flow.log_prob(samples)\n",
    "\n",
    "    # Store files\n",
    "    np.savetxt(\"/tmp/samples_weighted_file.csv\", samples.cpu().numpy(), delimiter=',')\n",
    "    np.savetxt(\"/tmp/llhs_weighted_file.csv\", np.exp(llhs.cpu().numpy()), delimiter=',')\n",
    "\n",
    "    # Run the evaluator\n",
    "    cmd = os.path.abspath(os.getcwd())+'/ME_VEGAS/compute_metrics_from_likelihoods /tmp/samples_file.csv /tmp/llhs_file.csv'\n",
    "    b = subprocess.run(cmd, shell=True, stdout=subprocess.PIPE, stderr=subprocess.PIPE).stdout\n",
    "    lines = b.decode('ascii').split(\"\\n\")\n",
    "\n",
    "    ess = float(lines[2].split(' ')[-1])\n",
    "    \n",
    "    print(\"Effective sample size = \", ess)\n",
    "    writer.add_scalar(\"Effective_sample_size\", ess, epoch)\n",
    "\n",
    "    if ess > best_ess:\n",
    "        torch.save(flow, \"flow_model_weighted_{}_best_ess.pt\".format(reference_method))\n",
    "        best_ess = ess\n",
    "        \n",
    "torch.save(flow, \"flow_model_weighted_{}_final.pt\".format(reference_method))"
   ]
  }
 ],
 "metadata": {
  "kernelspec": {
   "display_name": "Python 3",
   "language": "python",
   "name": "python3"
  },
  "language_info": {
   "codemirror_mode": {
    "name": "ipython",
    "version": 3
   },
   "file_extension": ".py",
   "mimetype": "text/x-python",
   "name": "python",
   "nbconvert_exporter": "python",
   "pygments_lexer": "ipython3",
   "version": "3.6.9"
  }
 },
 "nbformat": 4,
 "nbformat_minor": 4
}
