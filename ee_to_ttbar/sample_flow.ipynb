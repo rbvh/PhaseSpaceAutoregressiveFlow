{
 "cells": [
  {
   "cell_type": "code",
   "execution_count": 1,
   "metadata": {},
   "outputs": [],
   "source": [
    "import math as m\n",
    "import numpy as np\n",
    "import random as r\n",
    "import matplotlib.pyplot as plt\n",
    "import sys\n",
    "import time"
   ]
  },
  {
   "cell_type": "code",
   "execution_count": 2,
   "metadata": {},
   "outputs": [],
   "source": [
    "import torch\n",
    "from torch import nn\n",
    "from torch import optim\n",
    "from torch.optim.lr_scheduler import MultiStepLR"
   ]
  },
  {
   "cell_type": "code",
   "execution_count": 3,
   "metadata": {},
   "outputs": [],
   "source": [
    "from nflows.flows.base import Flow\n",
    "from nflows.distributions.uniform import BoxUniform\n",
    "from nflows.transforms.base import CompositeTransform\n",
    "from nflows.transforms.autoregressive import MaskedPiecewiseRationalQuadraticAutoregressiveTransform\n",
    "from nflows.transforms.autoregressive import MaskedPiecewiseQuadraticAutoregressiveTransform\n",
    "from nflows.transforms.permutations import ReversePermutation\n",
    "from nflows.transforms.permutations import RandomPermutation\n",
    "from nflows.transforms.splines.rational_quadratic import rational_quadratic_spline\n",
    "from torch.utils.tensorboard import SummaryWriter"
   ]
  },
  {
   "cell_type": "code",
   "execution_count": 4,
   "metadata": {},
   "outputs": [],
   "source": [
    "import subprocess\n",
    "import time\n",
    "import os\n",
    "from copy import deepcopy\n",
    "import math as m\n",
    "import gc"
   ]
  },
  {
   "cell_type": "code",
   "execution_count": 5,
   "metadata": {},
   "outputs": [],
   "source": [
    "import numpy as np\n",
    "import pandas as pd\n",
    "import matplotlib.pyplot as plt"
   ]
  },
  {
   "cell_type": "code",
   "execution_count": 6,
   "metadata": {},
   "outputs": [],
   "source": [
    "device = torch.device(\"cuda:1\")\n",
    "#device = torch.device(\"cpu\")"
   ]
  },
  {
   "cell_type": "code",
   "execution_count": 7,
   "metadata": {},
   "outputs": [],
   "source": [
    "model_name = 'flow_model_weighted_max_best_validation'\n",
    "samples_name = model_name.replace('model', 'samples')\n",
    "llhs_name = model_name.replace('model', 'llhs')"
   ]
  },
  {
   "cell_type": "code",
   "execution_count": 8,
   "metadata": {
    "scrolled": true
   },
   "outputs": [
    {
     "data": {
      "text/plain": [
       "Flow(\n",
       "  (_transform): CompositeTransform(\n",
       "    (_transforms): ModuleList(\n",
       "      (0): RandomPermutation()\n",
       "      (1): MaskedPiecewiseRationalQuadraticAutoregressiveTransform(\n",
       "        (autoregressive_net): MADE(\n",
       "          (initial_layer): MaskedLinear(in_features=14, out_features=100, bias=True)\n",
       "          (blocks): ModuleList()\n",
       "          (final_layer): MaskedLinear(in_features=100, out_features=196, bias=True)\n",
       "        )\n",
       "      )\n",
       "      (2): RandomPermutation()\n",
       "      (3): MaskedPiecewiseRationalQuadraticAutoregressiveTransform(\n",
       "        (autoregressive_net): MADE(\n",
       "          (initial_layer): MaskedLinear(in_features=14, out_features=100, bias=True)\n",
       "          (blocks): ModuleList()\n",
       "          (final_layer): MaskedLinear(in_features=100, out_features=196, bias=True)\n",
       "        )\n",
       "      )\n",
       "      (4): RandomPermutation()\n",
       "      (5): MaskedPiecewiseRationalQuadraticAutoregressiveTransform(\n",
       "        (autoregressive_net): MADE(\n",
       "          (initial_layer): MaskedLinear(in_features=14, out_features=100, bias=True)\n",
       "          (blocks): ModuleList()\n",
       "          (final_layer): MaskedLinear(in_features=100, out_features=196, bias=True)\n",
       "        )\n",
       "      )\n",
       "      (6): RandomPermutation()\n",
       "      (7): MaskedPiecewiseRationalQuadraticAutoregressiveTransform(\n",
       "        (autoregressive_net): MADE(\n",
       "          (initial_layer): MaskedLinear(in_features=14, out_features=100, bias=True)\n",
       "          (blocks): ModuleList()\n",
       "          (final_layer): MaskedLinear(in_features=100, out_features=196, bias=True)\n",
       "        )\n",
       "      )\n",
       "      (8): RandomPermutation()\n",
       "      (9): MaskedPiecewiseRationalQuadraticAutoregressiveTransform(\n",
       "        (autoregressive_net): MADE(\n",
       "          (initial_layer): MaskedLinear(in_features=14, out_features=100, bias=True)\n",
       "          (blocks): ModuleList()\n",
       "          (final_layer): MaskedLinear(in_features=100, out_features=196, bias=True)\n",
       "        )\n",
       "      )\n",
       "      (10): RandomPermutation()\n",
       "      (11): MaskedPiecewiseRationalQuadraticAutoregressiveTransform(\n",
       "        (autoregressive_net): MADE(\n",
       "          (initial_layer): MaskedLinear(in_features=14, out_features=100, bias=True)\n",
       "          (blocks): ModuleList()\n",
       "          (final_layer): MaskedLinear(in_features=100, out_features=196, bias=True)\n",
       "        )\n",
       "      )\n",
       "    )\n",
       "  )\n",
       "  (_distribution): BoxUniform()\n",
       "  (_embedding_net): Identity()\n",
       ")"
      ]
     },
     "execution_count": 8,
     "metadata": {},
     "output_type": "execute_result"
    }
   ],
   "source": [
    "flow = torch.load(model_name+\".pt\", map_location=device)\n",
    "flow.eval()"
   ]
  },
  {
   "cell_type": "code",
   "execution_count": 9,
   "metadata": {},
   "outputs": [],
   "source": [
    "t_start = time.time()"
   ]
  },
  {
   "cell_type": "code",
   "execution_count": 10,
   "metadata": {},
   "outputs": [
    {
     "name": "stdout",
     "output_type": "stream",
     "text": [
      "Sample 100000 points (1/100)...\n",
      "Sample 100000 points (2/100)...\n",
      "Sample 100000 points (3/100)...\n",
      "Sample 100000 points (4/100)...\n",
      "Sample 100000 points (5/100)...\n",
      "Sample 100000 points (6/100)...\n",
      "Sample 100000 points (7/100)...\n",
      "Sample 100000 points (8/100)...\n",
      "Sample 100000 points (9/100)...\n",
      "Sample 100000 points (10/100)...\n",
      "Sample 100000 points (11/100)...\n",
      "Sample 100000 points (12/100)...\n",
      "Sample 100000 points (13/100)...\n",
      "Sample 100000 points (14/100)...\n",
      "Sample 100000 points (15/100)...\n",
      "Sample 100000 points (16/100)...\n",
      "Sample 100000 points (17/100)...\n",
      "Sample 100000 points (18/100)...\n",
      "Sample 100000 points (19/100)...\n",
      "Sample 100000 points (20/100)...\n",
      "Sample 100000 points (21/100)...\n",
      "Sample 100000 points (22/100)...\n",
      "Sample 100000 points (23/100)...\n",
      "Sample 100000 points (24/100)...\n",
      "Sample 100000 points (25/100)...\n",
      "Sample 100000 points (26/100)...\n",
      "Sample 100000 points (27/100)...\n",
      "Sample 100000 points (28/100)...\n",
      "Sample 100000 points (29/100)...\n",
      "Sample 100000 points (30/100)...\n",
      "Sample 100000 points (31/100)...\n",
      "Sample 100000 points (32/100)...\n",
      "Sample 100000 points (33/100)...\n",
      "Sample 100000 points (34/100)...\n",
      "Sample 100000 points (35/100)...\n",
      "Sample 100000 points (36/100)...\n",
      "Sample 100000 points (37/100)...\n",
      "Sample 100000 points (38/100)...\n",
      "Sample 100000 points (39/100)...\n",
      "Sample 100000 points (40/100)...\n",
      "Sample 100000 points (41/100)...\n",
      "Sample 100000 points (42/100)...\n",
      "Sample 100000 points (43/100)...\n",
      "Sample 100000 points (44/100)...\n",
      "Sample 100000 points (45/100)...\n",
      "Sample 100000 points (46/100)...\n",
      "Sample 100000 points (47/100)...\n",
      "Sample 100000 points (48/100)...\n",
      "Sample 100000 points (49/100)...\n",
      "Sample 100000 points (50/100)...\n",
      "Sample 100000 points (51/100)...\n",
      "Sample 100000 points (52/100)...\n",
      "Sample 100000 points (53/100)...\n",
      "Sample 100000 points (54/100)...\n",
      "Sample 100000 points (55/100)...\n",
      "Sample 100000 points (56/100)...\n",
      "Sample 100000 points (57/100)...\n",
      "Sample 100000 points (58/100)...\n",
      "Sample 100000 points (59/100)...\n",
      "Sample 100000 points (60/100)...\n",
      "Sample 100000 points (61/100)...\n",
      "Sample 100000 points (62/100)...\n",
      "Sample 100000 points (63/100)...\n",
      "Sample 100000 points (64/100)...\n",
      "Sample 100000 points (65/100)...\n",
      "Sample 100000 points (66/100)...\n",
      "Sample 100000 points (67/100)...\n",
      "Sample 100000 points (68/100)...\n",
      "Sample 100000 points (69/100)...\n",
      "Sample 100000 points (70/100)...\n",
      "Sample 100000 points (71/100)...\n",
      "Sample 100000 points (72/100)...\n",
      "Sample 100000 points (73/100)...\n",
      "Sample 100000 points (74/100)...\n",
      "Sample 100000 points (75/100)...\n",
      "Sample 100000 points (76/100)...\n",
      "Sample 100000 points (77/100)...\n",
      "Sample 100000 points (78/100)...\n",
      "Sample 100000 points (79/100)...\n",
      "Sample 100000 points (80/100)...\n",
      "Sample 100000 points (81/100)...\n",
      "Sample 100000 points (82/100)...\n",
      "Sample 100000 points (83/100)...\n",
      "Sample 100000 points (84/100)...\n",
      "Sample 100000 points (85/100)...\n",
      "Sample 100000 points (86/100)...\n",
      "Sample 100000 points (87/100)...\n",
      "Sample 100000 points (88/100)...\n",
      "Sample 100000 points (89/100)...\n",
      "Sample 100000 points (90/100)...\n",
      "Sample 100000 points (91/100)...\n",
      "Sample 100000 points (92/100)...\n",
      "Sample 100000 points (93/100)...\n",
      "Sample 100000 points (94/100)...\n",
      "Sample 100000 points (95/100)...\n",
      "Sample 100000 points (96/100)...\n",
      "Sample 100000 points (97/100)...\n",
      "Sample 100000 points (98/100)...\n",
      "Sample 100000 points (99/100)...\n",
      "Sample 100000 points (100/100)...\n"
     ]
    }
   ],
   "source": [
    "n_samples = int(1e7)\n",
    "n_sample_size = int(1e5)\n",
    "\n",
    "steps = int(n_samples/n_sample_size)\n",
    "\n",
    "generated_samples = None\n",
    "generated_llhs = None\n",
    "for i in range(steps):\n",
    "    print(\"Sample {} points ({}/{})...\".format(n_sample_size, i+1, steps))\n",
    "    with torch.no_grad():\n",
    "        new_data = flow.sample(n_sample_size)\n",
    "        new_llhs = np.exp(flow.log_prob(new_data).cpu().numpy())\n",
    "        new_data = new_data.cpu().numpy()\n",
    "        if generated_samples is None:\n",
    "            generated_samples = new_data\n",
    "            generated_llhs = new_llhs\n",
    "        else:\n",
    "            generated_samples = np.vstack((generated_samples, new_data))\n",
    "            generated_llhs = np.vstack((generated_llhs, new_llhs))"
   ]
  },
  {
   "cell_type": "code",
   "execution_count": 11,
   "metadata": {},
   "outputs": [
    {
     "name": "stdout",
     "output_type": "stream",
     "text": [
      "Time to sample 10000000 datapoints: 176.89814019203186\n"
     ]
    }
   ],
   "source": [
    "t_end = time.time()\n",
    "timespan = t_end - t_start\n",
    "print(\"Time to sample {} datapoints: {}\".format(n_samples, timespan))"
   ]
  },
  {
   "cell_type": "code",
   "execution_count": 12,
   "metadata": {},
   "outputs": [],
   "source": [
    "np.savetxt('data/{}.csv'.format(samples_name), generated_samples, delimiter=',')\n",
    "np.savetxt('data/{}.csv'.format(llhs_name), generated_llhs.reshape(-1,1), delimiter=',')"
   ]
  },
  {
   "cell_type": "code",
   "execution_count": null,
   "metadata": {},
   "outputs": [],
   "source": []
  }
 ],
 "metadata": {
  "kernelspec": {
   "display_name": "Python 3",
   "language": "python",
   "name": "python3"
  },
  "language_info": {
   "codemirror_mode": {
    "name": "ipython",
    "version": 3
   },
   "file_extension": ".py",
   "mimetype": "text/x-python",
   "name": "python",
   "nbconvert_exporter": "python",
   "pygments_lexer": "ipython3",
   "version": "3.6.9"
  }
 },
 "nbformat": 4,
 "nbformat_minor": 4
}
